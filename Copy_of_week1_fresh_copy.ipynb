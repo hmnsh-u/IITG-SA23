{
  "nbformat": 4,
  "nbformat_minor": 0,
  "metadata": {
    "colab": {
      "provenance": [],
      "include_colab_link": true
    },
    "kernelspec": {
      "name": "python3",
      "display_name": "Python 3"
    },
    "language_info": {
      "name": "python"
    }
  },
  "cells": [
    {
      "cell_type": "markdown",
      "metadata": {
        "id": "view-in-github",
        "colab_type": "text"
      },
      "source": [
        "<a href=\"https://colab.research.google.com/github/hmnsh-u/IITG-SA23/blob/main/Copy_of_week1_fresh_copy.ipynb\" target=\"_parent\"><img src=\"https://colab.research.google.com/assets/colab-badge.svg\" alt=\"Open In Colab\"/></a>"
      ]
    },
    {
      "cell_type": "markdown",
      "source": [
        "**Welcome to your first assignment of Summer Analytics 2023! We hope you are excited to implement and test everything you have learnt up until now.<a href = \"https://drive.google.com/file/d/1U73P58VAc4EXM98Or9feKnVx9I9FOP_L/view?usp=sharing\"> The dataset</a> which you'll use includes information about Movies.**"
      ],
      "metadata": {
        "id": "7t7O3hPJQQ1h"
      }
    },
    {
      "cell_type": "markdown",
      "source": [
        " We've got an interesting set of questions for you to get a basic understanding of pandas and data visualization libraries. GOOD LUCK!\n",
        " \n",
        "Let's get started with importing numpy, pandas, seaborn and matplotlib! "
      ],
      "metadata": {
        "id": "8yDZv8F_QiqH"
      }
    },
    {
      "cell_type": "markdown",
      "source": [
        "Note - matplotlib should be imported with the command :\n",
        "\n",
        "**import matplotlib.pyplot as plt**"
      ],
      "metadata": {
        "id": "p-nMuCNQQxx_"
      }
    },
    {
      "cell_type": "markdown",
      "source": [
        "Start by importing all important libraries"
      ],
      "metadata": {
        "id": "nz8BTfnCRC8v"
      }
    },
    {
      "cell_type": "code",
      "execution_count": null,
      "metadata": {
        "id": "rKkyeMJiO0up"
      },
      "outputs": [],
      "source": [
        "import pandas as pd\n",
        "import seaborn as sns\n",
        "import numpy as np\n",
        "import matplotlib.pyplot as plt"
      ]
    },
    {
      "cell_type": "markdown",
      "source": [
        "Read the csv file and assign it to a variable ."
      ],
      "metadata": {
        "id": "2N8LabERRONN"
      }
    },
    {
      "cell_type": "code",
      "source": [
        "df=pd.read_csv('imdb_top_1000.csv')"
      ],
      "metadata": {
        "id": "vnjh3IZmRO72"
      },
      "execution_count": null,
      "outputs": []
    },
    {
      "cell_type": "markdown",
      "source": [
        "Display shape of dataframe"
      ],
      "metadata": {
        "id": "EifdwomBRPxy"
      }
    },
    {
      "cell_type": "code",
      "source": [
        "print(df.shape)"
      ],
      "metadata": {
        "id": "lM8S9INfRSt3",
        "colab": {
          "base_uri": "https://localhost:8080/"
        },
        "outputId": "cec46785-721a-4c79-b426-23f7aac38cd2"
      },
      "execution_count": null,
      "outputs": [
        {
          "output_type": "stream",
          "name": "stdout",
          "text": [
            "(1000, 16)\n"
          ]
        }
      ]
    },
    {
      "cell_type": "markdown",
      "source": [
        "Print all columns of dataframe"
      ],
      "metadata": {
        "id": "Q9xTIt54RVTY"
      }
    },
    {
      "cell_type": "code",
      "source": [
        "print(df.columns)"
      ],
      "metadata": {
        "id": "kn3VPvn6RV4_",
        "colab": {
          "base_uri": "https://localhost:8080/"
        },
        "outputId": "e83d449a-bbd4-4436-8195-bef7937279c7"
      },
      "execution_count": null,
      "outputs": [
        {
          "output_type": "stream",
          "name": "stdout",
          "text": [
            "Index(['Poster_Link', 'Series_Title', 'Released_Year', 'Certificate',\n",
            "       'Runtime', 'Genre', 'IMDB_Rating', 'Overview', 'Meta_score', 'Director',\n",
            "       'Star1', 'Star2', 'Star3', 'Star4', 'No_of_Votes', 'Gross'],\n",
            "      dtype='object')\n"
          ]
        }
      ]
    },
    {
      "cell_type": "markdown",
      "source": [
        "Remove the column 'Poster_Link' and update the dataframe."
      ],
      "metadata": {
        "id": "3jtm084KRleN"
      }
    },
    {
      "cell_type": "code",
      "source": [
        "df.drop('Poster_Link', axis=1, inplace=True)"
      ],
      "metadata": {
        "id": "zYIz3q0ARnuU"
      },
      "execution_count": null,
      "outputs": []
    },
    {
      "cell_type": "markdown",
      "source": [
        "Set the 'Series_Title' column as the index of dataframe"
      ],
      "metadata": {
        "id": "ss6QYp4YRrfY"
      }
    },
    {
      "cell_type": "code",
      "source": [
        "df.set_index('Series_Title')"
      ],
      "metadata": {
        "id": "iXNaEmTkR3tB",
        "colab": {
          "base_uri": "https://localhost:8080/",
          "height": 1000
        },
        "outputId": "9035f7ef-1fb7-445d-f395-4537c1152a00"
      },
      "execution_count": null,
      "outputs": [
        {
          "output_type": "execute_result",
          "data": {
            "text/plain": [
              "                         Released_Year Certificate  Runtime  \\\n",
              "Series_Title                                                  \n",
              "The Shawshank Redemption          1994           A  142 min   \n",
              "The Godfather                     1972           A  175 min   \n",
              "The Dark Knight                   2008          UA  152 min   \n",
              "The Godfather: Part II            1974           A  202 min   \n",
              "12 Angry Men                      1957           U   96 min   \n",
              "...                                ...         ...      ...   \n",
              "Breakfast at Tiffany's            1961           A  115 min   \n",
              "Giant                             1956           G  201 min   \n",
              "From Here to Eternity             1953      Passed  118 min   \n",
              "Lifeboat                          1944         NaN   97 min   \n",
              "The 39 Steps                      1935         NaN   86 min   \n",
              "\n",
              "                                             Genre  IMDB_Rating  \\\n",
              "Series_Title                                                      \n",
              "The Shawshank Redemption                     Drama          9.3   \n",
              "The Godfather                         Crime, Drama          9.2   \n",
              "The Dark Knight               Action, Crime, Drama          9.0   \n",
              "The Godfather: Part II                Crime, Drama          9.0   \n",
              "12 Angry Men                          Crime, Drama          9.0   \n",
              "...                                            ...          ...   \n",
              "Breakfast at Tiffany's      Comedy, Drama, Romance          7.6   \n",
              "Giant                               Drama, Western          7.6   \n",
              "From Here to Eternity          Drama, Romance, War          7.6   \n",
              "Lifeboat                                Drama, War          7.6   \n",
              "The 39 Steps              Crime, Mystery, Thriller          7.6   \n",
              "\n",
              "                                                                   Overview  \\\n",
              "Series_Title                                                                  \n",
              "The Shawshank Redemption  Two imprisoned men bond over a number of years...   \n",
              "The Godfather             An organized crime dynasty's aging patriarch t...   \n",
              "The Dark Knight           When the menace known as the Joker wreaks havo...   \n",
              "The Godfather: Part II    The early life and career of Vito Corleone in ...   \n",
              "12 Angry Men              A jury holdout attempts to prevent a miscarria...   \n",
              "...                                                                     ...   \n",
              "Breakfast at Tiffany's    A young New York socialite becomes interested ...   \n",
              "Giant                     Sprawling epic covering the life of a Texas ca...   \n",
              "From Here to Eternity     In Hawaii in 1941, a private is cruelly punish...   \n",
              "Lifeboat                  Several survivors of a torpedoed merchant ship...   \n",
              "The 39 Steps              A man in London tries to help a counter-espion...   \n",
              "\n",
              "                          Meta_score              Director              Star1  \\\n",
              "Series_Title                                                                    \n",
              "The Shawshank Redemption        80.0        Frank Darabont        Tim Robbins   \n",
              "The Godfather                  100.0  Francis Ford Coppola      Marlon Brando   \n",
              "The Dark Knight                 84.0     Christopher Nolan     Christian Bale   \n",
              "The Godfather: Part II          90.0  Francis Ford Coppola          Al Pacino   \n",
              "12 Angry Men                    96.0          Sidney Lumet        Henry Fonda   \n",
              "...                              ...                   ...                ...   \n",
              "Breakfast at Tiffany's          76.0         Blake Edwards     Audrey Hepburn   \n",
              "Giant                           84.0        George Stevens   Elizabeth Taylor   \n",
              "From Here to Eternity           85.0        Fred Zinnemann     Burt Lancaster   \n",
              "Lifeboat                        78.0      Alfred Hitchcock  Tallulah Bankhead   \n",
              "The 39 Steps                    93.0      Alfred Hitchcock       Robert Donat   \n",
              "\n",
              "                                      Star2           Star3           Star4  \\\n",
              "Series_Title                                                                  \n",
              "The Shawshank Redemption     Morgan Freeman      Bob Gunton  William Sadler   \n",
              "The Godfather                     Al Pacino      James Caan    Diane Keaton   \n",
              "The Dark Knight                Heath Ledger   Aaron Eckhart   Michael Caine   \n",
              "The Godfather: Part II       Robert De Niro   Robert Duvall    Diane Keaton   \n",
              "12 Angry Men                    Lee J. Cobb   Martin Balsam    John Fiedler   \n",
              "...                                     ...             ...             ...   \n",
              "Breakfast at Tiffany's       George Peppard   Patricia Neal     Buddy Ebsen   \n",
              "Giant                           Rock Hudson      James Dean   Carroll Baker   \n",
              "From Here to Eternity      Montgomery Clift    Deborah Kerr      Donna Reed   \n",
              "Lifeboat                        John Hodiak   Walter Slezak  William Bendix   \n",
              "The 39 Steps              Madeleine Carroll  Lucie Mannheim  Godfrey Tearle   \n",
              "\n",
              "                          No_of_Votes        Gross  \n",
              "Series_Title                                        \n",
              "The Shawshank Redemption      2343110   28,341,469  \n",
              "The Godfather                 1620367  134,966,411  \n",
              "The Dark Knight               2303232  534,858,444  \n",
              "The Godfather: Part II        1129952   57,300,000  \n",
              "12 Angry Men                   689845    4,360,000  \n",
              "...                               ...          ...  \n",
              "Breakfast at Tiffany's         166544          NaN  \n",
              "Giant                           34075          NaN  \n",
              "From Here to Eternity           43374   30,500,000  \n",
              "Lifeboat                        26471          NaN  \n",
              "The 39 Steps                    51853          NaN  \n",
              "\n",
              "[1000 rows x 14 columns]"
            ],
            "text/html": [
              "\n",
              "  <div id=\"df-a2384767-e4d4-40a2-9160-1c97072949a9\">\n",
              "    <div class=\"colab-df-container\">\n",
              "      <div>\n",
              "<style scoped>\n",
              "    .dataframe tbody tr th:only-of-type {\n",
              "        vertical-align: middle;\n",
              "    }\n",
              "\n",
              "    .dataframe tbody tr th {\n",
              "        vertical-align: top;\n",
              "    }\n",
              "\n",
              "    .dataframe thead th {\n",
              "        text-align: right;\n",
              "    }\n",
              "</style>\n",
              "<table border=\"1\" class=\"dataframe\">\n",
              "  <thead>\n",
              "    <tr style=\"text-align: right;\">\n",
              "      <th></th>\n",
              "      <th>Released_Year</th>\n",
              "      <th>Certificate</th>\n",
              "      <th>Runtime</th>\n",
              "      <th>Genre</th>\n",
              "      <th>IMDB_Rating</th>\n",
              "      <th>Overview</th>\n",
              "      <th>Meta_score</th>\n",
              "      <th>Director</th>\n",
              "      <th>Star1</th>\n",
              "      <th>Star2</th>\n",
              "      <th>Star3</th>\n",
              "      <th>Star4</th>\n",
              "      <th>No_of_Votes</th>\n",
              "      <th>Gross</th>\n",
              "    </tr>\n",
              "    <tr>\n",
              "      <th>Series_Title</th>\n",
              "      <th></th>\n",
              "      <th></th>\n",
              "      <th></th>\n",
              "      <th></th>\n",
              "      <th></th>\n",
              "      <th></th>\n",
              "      <th></th>\n",
              "      <th></th>\n",
              "      <th></th>\n",
              "      <th></th>\n",
              "      <th></th>\n",
              "      <th></th>\n",
              "      <th></th>\n",
              "      <th></th>\n",
              "    </tr>\n",
              "  </thead>\n",
              "  <tbody>\n",
              "    <tr>\n",
              "      <th>The Shawshank Redemption</th>\n",
              "      <td>1994</td>\n",
              "      <td>A</td>\n",
              "      <td>142 min</td>\n",
              "      <td>Drama</td>\n",
              "      <td>9.3</td>\n",
              "      <td>Two imprisoned men bond over a number of years...</td>\n",
              "      <td>80.0</td>\n",
              "      <td>Frank Darabont</td>\n",
              "      <td>Tim Robbins</td>\n",
              "      <td>Morgan Freeman</td>\n",
              "      <td>Bob Gunton</td>\n",
              "      <td>William Sadler</td>\n",
              "      <td>2343110</td>\n",
              "      <td>28,341,469</td>\n",
              "    </tr>\n",
              "    <tr>\n",
              "      <th>The Godfather</th>\n",
              "      <td>1972</td>\n",
              "      <td>A</td>\n",
              "      <td>175 min</td>\n",
              "      <td>Crime, Drama</td>\n",
              "      <td>9.2</td>\n",
              "      <td>An organized crime dynasty's aging patriarch t...</td>\n",
              "      <td>100.0</td>\n",
              "      <td>Francis Ford Coppola</td>\n",
              "      <td>Marlon Brando</td>\n",
              "      <td>Al Pacino</td>\n",
              "      <td>James Caan</td>\n",
              "      <td>Diane Keaton</td>\n",
              "      <td>1620367</td>\n",
              "      <td>134,966,411</td>\n",
              "    </tr>\n",
              "    <tr>\n",
              "      <th>The Dark Knight</th>\n",
              "      <td>2008</td>\n",
              "      <td>UA</td>\n",
              "      <td>152 min</td>\n",
              "      <td>Action, Crime, Drama</td>\n",
              "      <td>9.0</td>\n",
              "      <td>When the menace known as the Joker wreaks havo...</td>\n",
              "      <td>84.0</td>\n",
              "      <td>Christopher Nolan</td>\n",
              "      <td>Christian Bale</td>\n",
              "      <td>Heath Ledger</td>\n",
              "      <td>Aaron Eckhart</td>\n",
              "      <td>Michael Caine</td>\n",
              "      <td>2303232</td>\n",
              "      <td>534,858,444</td>\n",
              "    </tr>\n",
              "    <tr>\n",
              "      <th>The Godfather: Part II</th>\n",
              "      <td>1974</td>\n",
              "      <td>A</td>\n",
              "      <td>202 min</td>\n",
              "      <td>Crime, Drama</td>\n",
              "      <td>9.0</td>\n",
              "      <td>The early life and career of Vito Corleone in ...</td>\n",
              "      <td>90.0</td>\n",
              "      <td>Francis Ford Coppola</td>\n",
              "      <td>Al Pacino</td>\n",
              "      <td>Robert De Niro</td>\n",
              "      <td>Robert Duvall</td>\n",
              "      <td>Diane Keaton</td>\n",
              "      <td>1129952</td>\n",
              "      <td>57,300,000</td>\n",
              "    </tr>\n",
              "    <tr>\n",
              "      <th>12 Angry Men</th>\n",
              "      <td>1957</td>\n",
              "      <td>U</td>\n",
              "      <td>96 min</td>\n",
              "      <td>Crime, Drama</td>\n",
              "      <td>9.0</td>\n",
              "      <td>A jury holdout attempts to prevent a miscarria...</td>\n",
              "      <td>96.0</td>\n",
              "      <td>Sidney Lumet</td>\n",
              "      <td>Henry Fonda</td>\n",
              "      <td>Lee J. Cobb</td>\n",
              "      <td>Martin Balsam</td>\n",
              "      <td>John Fiedler</td>\n",
              "      <td>689845</td>\n",
              "      <td>4,360,000</td>\n",
              "    </tr>\n",
              "    <tr>\n",
              "      <th>...</th>\n",
              "      <td>...</td>\n",
              "      <td>...</td>\n",
              "      <td>...</td>\n",
              "      <td>...</td>\n",
              "      <td>...</td>\n",
              "      <td>...</td>\n",
              "      <td>...</td>\n",
              "      <td>...</td>\n",
              "      <td>...</td>\n",
              "      <td>...</td>\n",
              "      <td>...</td>\n",
              "      <td>...</td>\n",
              "      <td>...</td>\n",
              "      <td>...</td>\n",
              "    </tr>\n",
              "    <tr>\n",
              "      <th>Breakfast at Tiffany's</th>\n",
              "      <td>1961</td>\n",
              "      <td>A</td>\n",
              "      <td>115 min</td>\n",
              "      <td>Comedy, Drama, Romance</td>\n",
              "      <td>7.6</td>\n",
              "      <td>A young New York socialite becomes interested ...</td>\n",
              "      <td>76.0</td>\n",
              "      <td>Blake Edwards</td>\n",
              "      <td>Audrey Hepburn</td>\n",
              "      <td>George Peppard</td>\n",
              "      <td>Patricia Neal</td>\n",
              "      <td>Buddy Ebsen</td>\n",
              "      <td>166544</td>\n",
              "      <td>NaN</td>\n",
              "    </tr>\n",
              "    <tr>\n",
              "      <th>Giant</th>\n",
              "      <td>1956</td>\n",
              "      <td>G</td>\n",
              "      <td>201 min</td>\n",
              "      <td>Drama, Western</td>\n",
              "      <td>7.6</td>\n",
              "      <td>Sprawling epic covering the life of a Texas ca...</td>\n",
              "      <td>84.0</td>\n",
              "      <td>George Stevens</td>\n",
              "      <td>Elizabeth Taylor</td>\n",
              "      <td>Rock Hudson</td>\n",
              "      <td>James Dean</td>\n",
              "      <td>Carroll Baker</td>\n",
              "      <td>34075</td>\n",
              "      <td>NaN</td>\n",
              "    </tr>\n",
              "    <tr>\n",
              "      <th>From Here to Eternity</th>\n",
              "      <td>1953</td>\n",
              "      <td>Passed</td>\n",
              "      <td>118 min</td>\n",
              "      <td>Drama, Romance, War</td>\n",
              "      <td>7.6</td>\n",
              "      <td>In Hawaii in 1941, a private is cruelly punish...</td>\n",
              "      <td>85.0</td>\n",
              "      <td>Fred Zinnemann</td>\n",
              "      <td>Burt Lancaster</td>\n",
              "      <td>Montgomery Clift</td>\n",
              "      <td>Deborah Kerr</td>\n",
              "      <td>Donna Reed</td>\n",
              "      <td>43374</td>\n",
              "      <td>30,500,000</td>\n",
              "    </tr>\n",
              "    <tr>\n",
              "      <th>Lifeboat</th>\n",
              "      <td>1944</td>\n",
              "      <td>NaN</td>\n",
              "      <td>97 min</td>\n",
              "      <td>Drama, War</td>\n",
              "      <td>7.6</td>\n",
              "      <td>Several survivors of a torpedoed merchant ship...</td>\n",
              "      <td>78.0</td>\n",
              "      <td>Alfred Hitchcock</td>\n",
              "      <td>Tallulah Bankhead</td>\n",
              "      <td>John Hodiak</td>\n",
              "      <td>Walter Slezak</td>\n",
              "      <td>William Bendix</td>\n",
              "      <td>26471</td>\n",
              "      <td>NaN</td>\n",
              "    </tr>\n",
              "    <tr>\n",
              "      <th>The 39 Steps</th>\n",
              "      <td>1935</td>\n",
              "      <td>NaN</td>\n",
              "      <td>86 min</td>\n",
              "      <td>Crime, Mystery, Thriller</td>\n",
              "      <td>7.6</td>\n",
              "      <td>A man in London tries to help a counter-espion...</td>\n",
              "      <td>93.0</td>\n",
              "      <td>Alfred Hitchcock</td>\n",
              "      <td>Robert Donat</td>\n",
              "      <td>Madeleine Carroll</td>\n",
              "      <td>Lucie Mannheim</td>\n",
              "      <td>Godfrey Tearle</td>\n",
              "      <td>51853</td>\n",
              "      <td>NaN</td>\n",
              "    </tr>\n",
              "  </tbody>\n",
              "</table>\n",
              "<p>1000 rows × 14 columns</p>\n",
              "</div>\n",
              "      <button class=\"colab-df-convert\" onclick=\"convertToInteractive('df-a2384767-e4d4-40a2-9160-1c97072949a9')\"\n",
              "              title=\"Convert this dataframe to an interactive table.\"\n",
              "              style=\"display:none;\">\n",
              "        \n",
              "  <svg xmlns=\"http://www.w3.org/2000/svg\" height=\"24px\"viewBox=\"0 0 24 24\"\n",
              "       width=\"24px\">\n",
              "    <path d=\"M0 0h24v24H0V0z\" fill=\"none\"/>\n",
              "    <path d=\"M18.56 5.44l.94 2.06.94-2.06 2.06-.94-2.06-.94-.94-2.06-.94 2.06-2.06.94zm-11 1L8.5 8.5l.94-2.06 2.06-.94-2.06-.94L8.5 2.5l-.94 2.06-2.06.94zm10 10l.94 2.06.94-2.06 2.06-.94-2.06-.94-.94-2.06-.94 2.06-2.06.94z\"/><path d=\"M17.41 7.96l-1.37-1.37c-.4-.4-.92-.59-1.43-.59-.52 0-1.04.2-1.43.59L10.3 9.45l-7.72 7.72c-.78.78-.78 2.05 0 2.83L4 21.41c.39.39.9.59 1.41.59.51 0 1.02-.2 1.41-.59l7.78-7.78 2.81-2.81c.8-.78.8-2.07 0-2.86zM5.41 20L4 18.59l7.72-7.72 1.47 1.35L5.41 20z\"/>\n",
              "  </svg>\n",
              "      </button>\n",
              "      \n",
              "  <style>\n",
              "    .colab-df-container {\n",
              "      display:flex;\n",
              "      flex-wrap:wrap;\n",
              "      gap: 12px;\n",
              "    }\n",
              "\n",
              "    .colab-df-convert {\n",
              "      background-color: #E8F0FE;\n",
              "      border: none;\n",
              "      border-radius: 50%;\n",
              "      cursor: pointer;\n",
              "      display: none;\n",
              "      fill: #1967D2;\n",
              "      height: 32px;\n",
              "      padding: 0 0 0 0;\n",
              "      width: 32px;\n",
              "    }\n",
              "\n",
              "    .colab-df-convert:hover {\n",
              "      background-color: #E2EBFA;\n",
              "      box-shadow: 0px 1px 2px rgba(60, 64, 67, 0.3), 0px 1px 3px 1px rgba(60, 64, 67, 0.15);\n",
              "      fill: #174EA6;\n",
              "    }\n",
              "\n",
              "    [theme=dark] .colab-df-convert {\n",
              "      background-color: #3B4455;\n",
              "      fill: #D2E3FC;\n",
              "    }\n",
              "\n",
              "    [theme=dark] .colab-df-convert:hover {\n",
              "      background-color: #434B5C;\n",
              "      box-shadow: 0px 1px 3px 1px rgba(0, 0, 0, 0.15);\n",
              "      filter: drop-shadow(0px 1px 2px rgba(0, 0, 0, 0.3));\n",
              "      fill: #FFFFFF;\n",
              "    }\n",
              "  </style>\n",
              "\n",
              "      <script>\n",
              "        const buttonEl =\n",
              "          document.querySelector('#df-a2384767-e4d4-40a2-9160-1c97072949a9 button.colab-df-convert');\n",
              "        buttonEl.style.display =\n",
              "          google.colab.kernel.accessAllowed ? 'block' : 'none';\n",
              "\n",
              "        async function convertToInteractive(key) {\n",
              "          const element = document.querySelector('#df-a2384767-e4d4-40a2-9160-1c97072949a9');\n",
              "          const dataTable =\n",
              "            await google.colab.kernel.invokeFunction('convertToInteractive',\n",
              "                                                     [key], {});\n",
              "          if (!dataTable) return;\n",
              "\n",
              "          const docLinkHtml = 'Like what you see? Visit the ' +\n",
              "            '<a target=\"_blank\" href=https://colab.research.google.com/notebooks/data_table.ipynb>data table notebook</a>'\n",
              "            + ' to learn more about interactive tables.';\n",
              "          element.innerHTML = '';\n",
              "          dataTable['output_type'] = 'display_data';\n",
              "          await google.colab.output.renderOutput(dataTable, element);\n",
              "          const docLink = document.createElement('div');\n",
              "          docLink.innerHTML = docLinkHtml;\n",
              "          element.appendChild(docLink);\n",
              "        }\n",
              "      </script>\n",
              "    </div>\n",
              "  </div>\n",
              "  "
            ]
          },
          "metadata": {},
          "execution_count": 9
        }
      ]
    },
    {
      "cell_type": "markdown",
      "source": [
        "Print a list of all the unique Genre"
      ],
      "metadata": {
        "id": "f6cj49w0R4PS"
      }
    },
    {
      "cell_type": "code",
      "source": [
        "print(df['Genre'].unique())"
      ],
      "metadata": {
        "id": "CO4kbBsySVjr",
        "colab": {
          "base_uri": "https://localhost:8080/"
        },
        "outputId": "346f809e-2f71-410f-b907-e57eea039e6b"
      },
      "execution_count": null,
      "outputs": [
        {
          "output_type": "stream",
          "name": "stdout",
          "text": [
            "['Drama' 'Crime, Drama' 'Action, Crime, Drama' 'Action, Adventure, Drama'\n",
            " 'Biography, Drama, History' 'Action, Adventure, Sci-Fi' 'Drama, Romance'\n",
            " 'Western' 'Action, Sci-Fi' 'Biography, Crime, Drama'\n",
            " 'Action, Adventure, Fantasy' 'Comedy, Drama, Thriller'\n",
            " 'Adventure, Drama, Sci-Fi' 'Animation, Adventure, Family' 'Drama, War'\n",
            " 'Crime, Drama, Fantasy' 'Comedy, Drama, Romance' 'Crime, Drama, Mystery'\n",
            " 'Crime, Drama, Thriller' 'Action, Drama, Mystery'\n",
            " 'Drama, Family, Fantasy' 'Drama, Music' 'Biography, Comedy, Drama'\n",
            " 'Drama, Mystery, Sci-Fi' 'Biography, Drama, Music'\n",
            " 'Crime, Mystery, Thriller' 'Animation, Adventure, Drama'\n",
            " 'Animation, Drama, War' 'Adventure, Comedy, Sci-Fi'\n",
            " 'Horror, Mystery, Thriller' 'Drama, Romance, War' 'Comedy, Drama, Family'\n",
            " 'Animation, Drama, Fantasy' 'Action, Biography, Drama'\n",
            " 'Animation, Action, Adventure' 'Drama, Western' 'Action, Adventure'\n",
            " 'Comedy, Drama' 'Drama, Family' 'Drama, Mystery, Thriller'\n",
            " 'Mystery, Thriller' 'Drama, Horror' 'Drama, Mystery, War'\n",
            " 'Horror, Sci-Fi' 'Drama, Musical' 'Comedy' 'Drama, Film-Noir'\n",
            " 'Comedy, Drama, War' 'Drama, Thriller, War' 'Drama, Fantasy, Horror'\n",
            " 'Crime, Drama, Music' 'Adventure, Drama, War' 'Drama, Romance, Sci-Fi'\n",
            " 'Comedy, Romance' 'Comedy, Crime' 'Drama, Family, Sport'\n",
            " 'Animation, Adventure, Comedy' 'Adventure, Drama, Thriller'\n",
            " 'Comedy, Crime, Drama' 'Crime, Drama, Sci-Fi' 'Adventure, Sci-Fi'\n",
            " 'Adventure, Biography, Drama' 'Adventure, Mystery, Thriller'\n",
            " 'Mystery, Romance, Thriller' 'Comedy, Musical, Romance'\n",
            " 'Crime, Drama, Film-Noir' 'Drama, Mystery' 'Drama, Sci-Fi'\n",
            " 'Action, Drama, War' 'Action, Drama' 'Adventure, Comedy, Drama'\n",
            " 'Biography, Drama, Sport' 'Action, Comedy, Crime'\n",
            " 'Action, Biography, Crime' 'Drama, Mystery, Romance'\n",
            " 'Action, Drama, Sport' 'Drama, Fantasy, War' 'Action, Drama, Sci-Fi'\n",
            " 'Biography, Drama' 'Action, Comedy, Romance' 'Animation, Family, Fantasy'\n",
            " 'Action, Thriller' 'Action, Adventure, Comedy'\n",
            " 'Adventure, Comedy, Fantasy' 'Adventure, Drama, History'\n",
            " 'Action, Drama, Thriller' 'Comedy, Music, Romance'\n",
            " 'Drama, Fantasy, History' 'Crime, Thriller' 'Adventure, Drama, Western'\n",
            " 'Comedy, War' 'Drama, Thriller' 'Animation, Drama, Family'\n",
            " 'Drama, Romance, Thriller' 'Comedy, Drama, Musical'\n",
            " 'Comedy, Drama, Fantasy' 'Adventure, Comedy, Crime'\n",
            " 'Adventure, Drama, Fantasy' 'Biography, Drama, Family'\n",
            " 'Animation, Comedy, Drama' 'Drama, Sport' 'Animation, Action, Drama'\n",
            " 'Adventure, Drama, Musical' 'Drama, Music, Romance'\n",
            " 'Comedy, Crime, Romance' 'Comedy, Crime, Sport' 'Drama, History, Romance'\n",
            " 'Adventure, Drama' 'Animation, Adventure, Fantasy'\n",
            " 'Horror, Mystery, Sci-Fi' 'Drama, Fantasy, Music'\n",
            " 'Action, Sci-Fi, Thriller' 'Drama, Fantasy' 'Drama, Horror, Thriller'\n",
            " 'Drama, History' 'Film-Noir, Mystery, Thriller'\n",
            " 'Fantasy, Horror, Mystery' 'Action, Crime, Thriller'\n",
            " 'Comedy, Drama, Music' 'Biography, Drama, Thriller'\n",
            " 'Animation, Biography, Drama' 'Action, Mystery, Thriller'\n",
            " 'Crime, Drama, Romance' 'Action, Adventure, Thriller'\n",
            " 'Crime, Drama, Musical' 'Animation, Crime, Mystery'\n",
            " 'Action, Crime, Comedy' 'Mystery, Sci-Fi, Thriller'\n",
            " 'Animation, Action, Crime' 'Comedy, Fantasy, Romance'\n",
            " 'Drama, History, Thriller' 'Animation, Action, Sci-Fi'\n",
            " 'Adventure, Family, Fantasy' 'Drama, Fantasy, Romance'\n",
            " 'Drama, History, War' 'Adventure, Thriller' 'Horror'\n",
            " 'Drama, Family, Musical' 'Action, Drama, Western' 'Crime, Drama, Horror'\n",
            " 'Drama, Film-Noir, Mystery' 'Comedy, Crime, Thriller'\n",
            " 'Film-Noir, Mystery' 'Comedy, Crime, Mystery' 'Drama, Fantasy, Mystery'\n",
            " 'Comedy, Horror' 'Action, Adventure, History' 'Drama, Music, Mystery'\n",
            " 'Comedy, Music' 'Comedy, Family' 'Drama, Music, Musical'\n",
            " 'Action, Adventure, Horror' 'Action, Adventure, Biography'\n",
            " 'Biography, Drama, War' 'Action, Adventure, Western' 'Horror, Thriller'\n",
            " 'Comedy, Mystery, Romance' 'Drama, Thriller, Western'\n",
            " 'Crime, Film-Noir, Thriller' 'Drama, Film-Noir, Romance'\n",
            " 'Crime, Film-Noir, Mystery' 'Action, Adventure, Romance'\n",
            " 'Comedy, Music, Musical' 'Adventure, Horror, Sci-Fi' 'Fantasy, Horror'\n",
            " 'Action, Drama, History' 'Adventure, Comedy, Family'\n",
            " 'Animation, Biography, Crime' 'Adventure, Biography, Crime'\n",
            " 'Adventure, Fantasy' 'Drama, History, Mystery' 'Action, Comedy, Mystery'\n",
            " 'Adventure, Drama, Romance' 'Drama, Sci-Fi, Thriller'\n",
            " 'Crime, Drama, History' 'Action, Comedy, Fantasy' 'Family, Sci-Fi'\n",
            " 'Adventure, History, War' 'Animation, Sci-Fi' 'Family, Fantasy, Musical'\n",
            " 'Thriller' 'Comedy, Family, Fantasy' 'Adventure, Comedy, Film-Noir'\n",
            " 'Film-Noir, Thriller' 'Comedy, Family, Romance' 'Drama, Horror, Sci-Fi'\n",
            " 'Comedy, Musical, War' 'Biography, Drama, Romance'\n",
            " 'Drama, History, Music' 'Animation, Action, Fantasy'\n",
            " 'Animation, Comedy, Fantasy' 'Comedy, Western' 'Action, Adventure, War'\n",
            " 'Drama, Horror, Mystery' 'Animation, Comedy, Crime'\n",
            " 'Action, Adventure, Crime' 'Action, Adventure, Mystery'\n",
            " 'Action, Adventure, Family' 'Action, Crime, Mystery'\n",
            " 'Animation, Drama, Romance' 'Drama, War, Western'\n",
            " 'Adventure, Comedy, War']\n"
          ]
        }
      ]
    },
    {
      "cell_type": "markdown",
      "source": [
        "1. What is the Number of Directors in the given dataset ? "
      ],
      "metadata": {
        "id": "Dfj_ZoVBS97W"
      }
    },
    {
      "cell_type": "code",
      "source": [
        "nDirectors=df['Director'].nunique()\n",
        "print(nDirectors)"
      ],
      "metadata": {
        "id": "92f8NLciTIU_",
        "colab": {
          "base_uri": "https://localhost:8080/"
        },
        "outputId": "1237e2a0-605f-4693-c2a5-2770f9086f7b"
      },
      "execution_count": null,
      "outputs": [
        {
          "output_type": "stream",
          "name": "stdout",
          "text": [
            "548\n"
          ]
        }
      ]
    },
    {
      "cell_type": "markdown",
      "source": [
        "2. What is the mean, median and standard deviation of IMDB rating in the dataset ?"
      ],
      "metadata": {
        "id": "5UnvBViyTOc9"
      }
    },
    {
      "cell_type": "code",
      "source": [
        "mean=df['IMDB_Rating'].mean()\n",
        "median=df['IMDB_Rating'].median()\n",
        "std=df['IMDB_Rating'].std()\n",
        "print(mean,'\\n',median,'\\n', std)"
      ],
      "metadata": {
        "id": "sOL7O83LTg30",
        "colab": {
          "base_uri": "https://localhost:8080/"
        },
        "outputId": "b57b9b84-6fc4-4b0b-bbf7-2cdd75e4de02"
      },
      "execution_count": null,
      "outputs": [
        {
          "output_type": "stream",
          "name": "stdout",
          "text": [
            "7.949299999999999 \n",
            " 7.9 \n",
            " 0.2754912074920095\n"
          ]
        }
      ]
    },
    {
      "cell_type": "markdown",
      "source": [
        "3. Which director has directed the most number of movies?"
      ],
      "metadata": {
        "id": "d_k1zoajTxyx"
      }
    },
    {
      "cell_type": "code",
      "source": [
        "most_movies_director=df['Director'].value_counts().idxmax()\n",
        "print(most_movies_director)"
      ],
      "metadata": {
        "id": "-gvnNqSsT88L",
        "colab": {
          "base_uri": "https://localhost:8080/"
        },
        "outputId": "80ec8110-d184-418a-bc74-9ece2161eceb"
      },
      "execution_count": null,
      "outputs": [
        {
          "output_type": "stream",
          "name": "stdout",
          "text": [
            "Alfred Hitchcock\n"
          ]
        }
      ]
    },
    {
      "cell_type": "markdown",
      "source": [
        "4. Name the Movie which has the highest Runtime ?\n",
        "\n",
        "\n"
      ],
      "metadata": {
        "id": "zGHeeFZnT-yx"
      }
    },
    {
      "cell_type": "code",
      "source": [
        "max_runtime_movie = df.loc[df['Runtime'].idxmax(), 'Series_Title']\n",
        "print(max_runtime_movie)"
      ],
      "metadata": {
        "id": "-1BAOzXoUKL1",
        "colab": {
          "base_uri": "https://localhost:8080/"
        },
        "outputId": "4adf6e93-fca4-4e77-d66e-b8a6ecf1d6ec"
      },
      "execution_count": null,
      "outputs": [
        {
          "output_type": "stream",
          "name": "stdout",
          "text": [
            "Gangs of Wasseypur\n"
          ]
        }
      ]
    },
    {
      "cell_type": "markdown",
      "source": [
        "5. How many movies are released after year 2000 and have IMDB rating > 8.5 ?"
      ],
      "metadata": {
        "id": "ast-zD1gULUS"
      }
    },
    {
      "cell_type": "code",
      "source": [
        "df['Released_Year'] = pd.to_numeric(df['Released_Year'], downcast='integer', errors='coerce')\n",
        "n_movies=df[(df['Released_Year'] > 2000) & (df['IMDB_Rating'] > 8.5)]\n",
        "ans=n_movies.shape[0]\n",
        "print(ans)\n"
      ],
      "metadata": {
        "id": "2SA7L3G-VLom",
        "colab": {
          "base_uri": "https://localhost:8080/"
        },
        "outputId": "ebe176eb-feb7-4f5b-a22b-c49d4d917a5c"
      },
      "execution_count": null,
      "outputs": [
        {
          "output_type": "stream",
          "name": "stdout",
          "text": [
            "11\n"
          ]
        }
      ]
    },
    {
      "cell_type": "code",
      "source": [],
      "metadata": {
        "id": "aBbuK0GhUZtK"
      },
      "execution_count": null,
      "outputs": []
    },
    {
      "cell_type": "markdown",
      "source": [
        "Using seaborn make different types of plots, observe the trend and answer the questions.\n",
        "6. Make a countplot of Movies directed by top 5 directors."
      ],
      "metadata": {
        "id": "jYq9gv3aUl1u"
      }
    },
    {
      "cell_type": "code",
      "source": [
        "top_directors = df['Director'].value_counts().head(5).index\n",
        "filtered_df = df[df['Director'].isin(top_directors)]\n",
        "\n",
        "plt.figure(figsize=(10, 6))\n",
        "sns.countplot(data=filtered_df, x='Director')\n",
        "\n",
        "# Set the plot title and labels\n",
        "plt.title('Count of Movies Directed by Top 5 Directors')\n",
        "plt.xlabel('Director')\n",
        "plt.ylabel('Count')\n",
        "\n",
        "# Rotate x-axis labels for better readability if needed\n",
        "plt.xticks(rotation=45)\n",
        "\n",
        "# Show the plot\n",
        "plt.show()"
      ],
      "metadata": {
        "id": "WOYH5X29ViUR",
        "colab": {
          "base_uri": "https://localhost:8080/",
          "height": 644
        },
        "outputId": "2604a7f8-25dc-496c-8aba-1a0209f76778"
      },
      "execution_count": null,
      "outputs": [
        {
          "output_type": "display_data",
          "data": {
            "text/plain": [
              "<Figure size 1000x600 with 1 Axes>"
            ],
            "image/png": "[encoded data removed]"
          },
          "metadata": {}
        }
      ]
    },
    {
      "cell_type": "markdown",
      "source": [
        "7. Make a plot to analyze distribution of IMDB rating?"
      ],
      "metadata": {
        "id": "caUYiLeHVjIf"
      }
    },
    {
      "cell_type": "code",
      "source": [
        "# Create a histogram plot of IMDB ratings\n",
        "plt.figure(figsize=(10, 6))\n",
        "sns.histplot(data=df, x='IMDB_Rating', bins=20, kde=True)\n",
        "\n",
        "# Set the plot title and labels\n",
        "plt.title('Distribution of IMDB Ratings')\n",
        "plt.xlabel('IMDB Rating')\n",
        "plt.ylabel('Count')\n",
        "\n",
        "# Show the plot\n",
        "plt.show()"
      ],
      "metadata": {
        "id": "c12iHvlLV9PR",
        "colab": {
          "base_uri": "https://localhost:8080/",
          "height": 564
        },
        "outputId": "434c2b85-8f42-4b98-a144-9b97c5221313"
      },
      "execution_count": null,
      "outputs": [
        {
          "output_type": "display_data",
          "data": {
            "text/plain": [
              "<Figure size 1000x600 with 1 Axes>"
            ],
            "image/png": "[encoded data removed]"
          },
          "metadata": {}
        }
      ]
    },
    {
      "cell_type": "markdown",
      "source": [
        "8. What type of Genre has the highest IMDB rating?"
      ],
      "metadata": {
        "id": "dXCoPuYlWISU"
      }
    },
    {
      "cell_type": "code",
      "source": [
        "# Group the data by genre and calculate the average IMDB rating\n",
        "genre_ratings = df.groupby('Genre')['IMDB_Rating'].mean()\n",
        "\n",
        "# Find the genre with the highest average IMDB rating\n",
        "highest_rating_genre = genre_ratings.idxmax()\n",
        "\n",
        "# Print the genre with the highest IMDB rating\n",
        "print(highest_rating_genre)"
      ],
      "metadata": {
        "id": "0r9cKE7fWjBU",
        "colab": {
          "base_uri": "https://localhost:8080/"
        },
        "outputId": "93a96ab5-9c4a-4882-a3e8-01124e0f51a5"
      },
      "execution_count": null,
      "outputs": [
        {
          "output_type": "stream",
          "name": "stdout",
          "text": [
            "Animation, Drama, War\n"
          ]
        }
      ]
    },
    {
      "cell_type": "markdown",
      "source": [
        "9. Name the top 5 movies that have earned highest Meta score. "
      ],
      "metadata": {
        "id": "Ff2urhAhWrHO"
      }
    },
    {
      "cell_type": "code",
      "source": [
        "top_movies = df.nlargest(5, 'Meta_score')\n",
        "top_movie_names = top_movies['Series_Title']\n",
        "print(top_movie_names)\n",
        "\n"
      ],
      "metadata": {
        "id": "lta342_iWxLd",
        "colab": {
          "base_uri": "https://localhost:8080/"
        },
        "outputId": "31cf6287-2263-4afa-fc35-2e42ffae74a1"
      },
      "execution_count": null,
      "outputs": [
        {
          "output_type": "stream",
          "name": "stdout",
          "text": [
            "1           The Godfather\n",
            "50             Casablanca\n",
            "81            Rear Window\n",
            "116    Lawrence of Arabia\n",
            "119               Vertigo\n",
            "Name: Series_Title, dtype: object\n"
          ]
        }
      ]
    },
    {
      "cell_type": "markdown",
      "source": [
        "10. Of which Genre movie has the highest Runtime?"
      ],
      "metadata": {
        "id": "FPmZIOiwW5Jo"
      }
    },
    {
      "cell_type": "code",
      "source": [
        "# Find the movie with the highest runtime\n",
        "max_runtime_movie = df[df['Runtime'] == df['Runtime'].max()]\n",
        "\n",
        "# Retrieve the genre of the movie with the highest runtime\n",
        "genre_highest_runtime = max_runtime_movie['Genre'].values[0]\n",
        "print(genre_highest_runtime)"
      ],
      "metadata": {
        "id": "R5a1FemoXJuo",
        "colab": {
          "base_uri": "https://localhost:8080/"
        },
        "outputId": "ad302c90-50cc-4f6a-8946-a269d1899bf6"
      },
      "execution_count": null,
      "outputs": [
        {
          "output_type": "stream",
          "name": "stdout",
          "text": [
            "Action, Comedy, Crime\n"
          ]
        }
      ]
    },
    {
      "cell_type": "markdown",
      "source": [
        "**Using the knowledge about Plotly that you have  try making plots and analyse the data .Whenever you come across an interesting analysis please show the corresponding plot(using Plotly) and comment down your analysis for the same**"
      ],
      "metadata": {
        "id": "B_NatnajpeBE"
      }
    },
    {
      "cell_type": "code",
      "source": [
        "import plotly.express as px\n",
        "\n",
        "fig = px.bar(x=df['Genre'].value_counts().index, y=df['Genre'].value_counts().values)\n",
        "\n",
        "fig.update_layout(\n",
        "    title='Number of Movies per Genre',\n",
        "    xaxis_title='Genre',\n",
        "    yaxis_title='Count of Movies'\n",
        ")\n",
        "\n",
        "fig.show()"
      ],
      "metadata": {
        "id": "eGoTOAWvpfIu"
      },
      "execution_count": null,
      "outputs": []
    },
    {
      "cell_type": "code",
      "source": [
        "fig = px.scatter(df, x='IMDB_Rating', y='No_of_Votes')\n",
        "\n",
        "fig.update_layout(\n",
        "    title='IMDB Rating vs. No. of Votes',\n",
        "    xaxis_title='IMDB Rating',\n",
        "    yaxis_title='No. of Votes'\n",
        ")\n",
        "\n",
        "fig.show()"
      ],
      "metadata": {
        "id": "wMlRvinw6zb5",
        "outputId": "5747f2d1-678c-4371-e205-84692bf4ee26",
        "colab": {
          "base_uri": "https://localhost:8080/",
          "height": 542
        }
      },
      "execution_count": null,
      "outputs": [
        {
          "output_type": "display_data",
          "data": {
            "text/html": [
              "<html>\n",
              "<head><meta charset=\"utf-8\" /></head>\n",
              "<body>\n",
              "    <div>            <script src=\"https://cdnjs.cloudflare.com/ajax/libs/mathjax/2.7.5/MathJax.js?config=TeX-AMS-MML_SVG\"></script><script type=\"text/javascript\">if (window.MathJax && window.MathJax.Hub && window.MathJax.Hub.Config) {window.MathJax.Hub.Config({SVG: {font: \"STIX-Web\"}});}</script>                <script type=\"text/javascript\">window.PlotlyConfig = {MathJaxConfig: 'local'};</script>\n",
              "        <script src=\"https://cdn.plot.ly/plotly-2.18.2.min.js\"></script>                <div id=\"db816922-253e-41a9-acf4-3821e0ef4f19\" class=\"plotly-graph-div\" style=\"height:525px; width:100%;\"></div>            <script type=\"text/javascript\">                                    window.PLOTLYENV=window.PLOTLYENV || {};                                    if (document.getElementById(\"db816922-253e-41a9-acf4-3821e0ef4f19\")) {                    Plotly.newPlot(                        \"db816922-253e-41a9-acf4-3821e0ef4f19\",                        [{\"hovertemplate\":\"IMDB_Rating=%{x}<br>No_of_Votes=%{y}<extra></extra>\",\"legendgroup\":\"\",\"marker\":{\"color\":\"#636efa\",\"symbol\":\"circle\"},\"mode\":\"markers\",\"name\":\"\",\"orientation\":\"v\",\"showlegend\":false,\"x\":[9.3,9.2,9.0,9.0,9.0,8.9,8.9,8.9,8.8,8.8,8.8,8.8,8.8,8.7,8.7,8.7,8.7,8.7,8.6,8.6,8.6,8.6,8.6,8.6,8.6,8.6,8.6,8.6,8.6,8.6,8.6,8.6,8.6,8.5,8.5,8.5,8.5,8.5,8.5,8.5,8.5,8.5,8.5,8.5,8.5,8.5,8.5,8.5,8.5,8.5,8.5,8.5,8.5,8.4,8.4,8.4,8.4,8.4,8.4,8.4,8.4,8.4,8.4,8.4,8.4,8.4,8.4,8.4,8.4,8.4,8.4,8.4,8.4,8.4,8.4,8.4,8.4,8.4,8.4,8.4,8.4,8.4,8.4,8.4,8.3,8.3,8.3,8.3,8.3,8.3,8.3,8.3,8.3,8.3,8.3,8.3,8.3,8.3,8.3,8.3,8.3,8.3,8.3,8.3,8.3,8.3,8.3,8.3,8.3,8.3,8.3,8.3,8.3,8.3,8.3,8.3,8.3,8.3,8.3,8.3,8.3,8.3,8.3,8.3,8.3,8.3,8.3,8.3,8.2,8.2,8.2,8.2,8.2,8.2,8.2,8.2,8.2,8.2,8.2,8.2,8.2,8.2,8.2,8.2,8.2,8.2,8.2,8.2,8.2,8.2,8.2,8.2,8.2,8.2,8.2,8.2,8.2,8.2,8.2,8.2,8.2,8.2,8.2,8.2,8.2,8.2,8.2,8.2,8.2,8.2,8.2,8.2,8.2,8.2,8.2,8.2,8.2,8.2,8.2,8.2,8.2,8.2,8.2,8.2,8.2,8.2,8.2,8.2,8.2,8.2,8.2,8.2,8.2,8.2,8.2,8.1,8.1,8.1,8.1,8.1,8.1,8.1,8.1,8.1,8.1,8.1,8.1,8.1,8.1,8.1,8.1,8.1,8.1,8.1,8.1,8.1,8.1,8.1,8.1,8.1,8.1,8.1,8.1,8.1,8.1,8.1,8.1,8.1,8.1,8.1,8.1,8.1,8.1,8.1,8.1,8.1,8.1,8.1,8.1,8.1,8.1,8.1,8.1,8.1,8.1,8.1,8.1,8.1,8.1,8.1,8.1,8.1,8.1,8.1,8.1,8.1,8.1,8.1,8.1,8.1,8.1,8.1,8.1,8.1,8.1,8.1,8.1,8.1,8.1,8.1,8.1,8.1,8.1,8.1,8.1,8.1,8.1,8.1,8.1,8.1,8.1,8.1,8.1,8.1,8.1,8.1,8.1,8.1,8.1,8.1,8.1,8.1,8.1,8.1,8.1,8.1,8.1,8.1,8.1,8.1,8.1,8.1,8.1,8.1,8.1,8.1,8.1,8.1,8.1,8.1,8.1,8.1,8.1,8.1,8.1,8.1,8.1,8.1,8.1,8.1,8.1,8.1,8.0,8.0,8.0,8.0,8.0,8.0,8.0,8.0,8.0,8.0,8.0,8.0,8.0,8.0,8.0,8.0,8.0,8.0,8.0,8.0,8.0,8.0,8.0,8.0,8.0,8.0,8.0,8.0,8.0,8.0,8.0,8.0,8.0,8.0,8.0,8.0,8.0,8.0,8.0,8.0,8.0,8.0,8.0,8.0,8.0,8.0,8.0,8.0,8.0,8.0,8.0,8.0,8.0,8.0,8.0,8.0,8.0,8.0,8.0,8.0,8.0,8.0,8.0,8.0,8.0,8.0,8.0,8.0,8.0,8.0,8.0,8.0,8.0,8.0,8.0,8.0,8.0,8.0,8.0,8.0,8.0,8.0,8.0,8.0,8.0,8.0,8.0,8.0,8.0,8.0,8.0,8.0,8.0,8.0,8.0,8.0,8.0,8.0,8.0,8.0,8.0,8.0,8.0,8.0,8.0,8.0,8.0,8.0,8.0,8.0,8.0,8.0,8.0,8.0,8.0,8.0,8.0,8.0,8.0,8.0,8.0,8.0,8.0,8.0,8.0,8.0,8.0,8.0,8.0,8.0,8.0,8.0,8.0,8.0,8.0,8.0,8.0,8.0,8.0,8.0,8.0,7.9,7.9,7.9,7.9,7.9,7.9,7.9,7.9,7.9,7.9,7.9,7.9,7.9,7.9,7.9,7.9,7.9,7.9,7.9,7.9,7.9,7.9,7.9,7.9,7.9,7.9,7.9,7.9,7.9,7.9,7.9,7.9,7.9,7.9,7.9,7.9,7.9,7.9,7.9,7.9,7.9,7.9,7.9,7.9,7.9,7.9,7.9,7.9,7.9,7.9,7.9,7.9,7.9,7.9,7.9,7.9,7.9,7.9,7.9,7.9,7.9,7.9,7.9,7.9,7.9,7.9,7.9,7.9,7.9,7.9,7.9,7.9,7.9,7.9,7.9,7.9,7.9,7.9,7.9,7.9,7.9,7.9,7.9,7.9,7.9,7.9,7.9,7.9,7.9,7.9,7.9,7.9,7.9,7.9,7.9,7.9,7.9,7.9,7.9,7.9,7.9,7.9,7.9,7.9,7.9,7.9,7.8,7.8,7.8,7.8,7.8,7.8,7.8,7.8,7.8,7.8,7.8,7.8,7.8,7.8,7.8,7.8,7.8,7.8,7.8,7.8,7.8,7.8,7.8,7.8,7.8,7.8,7.8,7.8,7.8,7.8,7.8,7.8,7.8,7.8,7.8,7.8,7.8,7.8,7.8,7.8,7.8,7.8,7.8,7.8,7.8,7.8,7.8,7.8,7.8,7.8,7.8,7.8,7.8,7.8,7.8,7.8,7.8,7.8,7.8,7.8,7.8,7.8,7.8,7.8,7.8,7.8,7.8,7.8,7.8,7.8,7.8,7.8,7.8,7.8,7.8,7.8,7.8,7.8,7.8,7.8,7.8,7.8,7.8,7.8,7.8,7.8,7.8,7.8,7.8,7.8,7.8,7.8,7.8,7.8,7.8,7.8,7.8,7.8,7.8,7.8,7.8,7.8,7.8,7.8,7.8,7.8,7.8,7.8,7.8,7.8,7.8,7.8,7.8,7.8,7.8,7.8,7.8,7.8,7.8,7.8,7.8,7.8,7.8,7.8,7.8,7.8,7.8,7.8,7.8,7.8,7.8,7.8,7.8,7.8,7.8,7.8,7.8,7.8,7.8,7.8,7.8,7.8,7.8,7.8,7.8,7.8,7.8,7.8,7.8,7.8,7.8,7.7,7.7,7.7,7.7,7.7,7.7,7.7,7.7,7.7,7.7,7.7,7.7,7.7,7.7,7.7,7.7,7.7,7.7,7.7,7.7,7.7,7.7,7.7,7.7,7.7,7.7,7.7,7.7,7.7,7.7,7.7,7.7,7.7,7.7,7.7,7.7,7.7,7.7,7.7,7.7,7.7,7.7,7.7,7.7,7.7,7.7,7.7,7.7,7.7,7.7,7.7,7.7,7.7,7.7,7.7,7.7,7.7,7.7,7.7,7.7,7.7,7.7,7.7,7.7,7.7,7.7,7.7,7.7,7.7,7.7,7.7,7.7,7.7,7.7,7.7,7.7,7.7,7.7,7.7,7.7,7.7,7.7,7.7,7.7,7.7,7.7,7.7,7.7,7.7,7.7,7.7,7.7,7.7,7.7,7.7,7.7,7.7,7.7,7.7,7.7,7.7,7.7,7.7,7.7,7.7,7.7,7.7,7.7,7.7,7.7,7.7,7.7,7.7,7.7,7.7,7.7,7.7,7.7,7.7,7.7,7.7,7.7,7.7,7.7,7.7,7.7,7.7,7.7,7.7,7.7,7.7,7.7,7.7,7.7,7.7,7.7,7.7,7.7,7.7,7.7,7.7,7.7,7.7,7.7,7.7,7.7,7.7,7.7,7.7,7.7,7.7,7.7,7.7,7.7,7.7,7.7,7.7,7.6,7.6,7.6,7.6,7.6,7.6,7.6,7.6,7.6,7.6,7.6,7.6,7.6,7.6,7.6,7.6,7.6,7.6,7.6,7.6,7.6,7.6,7.6,7.6,7.6,7.6,7.6,7.6,7.6,7.6,7.6,7.6,7.6,7.6,7.6,7.6,7.6,7.6,7.6,7.6,7.6,7.6,7.6,7.6,7.6,7.6,7.6,7.6,7.6,7.6,7.6,7.6,7.6,7.6,7.6,7.6,7.6,7.6,7.6,7.6,7.6,7.6,7.6,7.6,7.6,7.6,7.6,7.6,7.6,7.6,7.6,7.6,7.6,7.6,7.6,7.6,7.6,7.6,7.6,7.6,7.6,7.6,7.6,7.6,7.6,7.6,7.6,7.6,7.6,7.6,7.6,7.6,7.6,7.6,7.6,7.6,7.6,7.6,7.6,7.6,7.6,7.6,7.6,7.6,7.6,7.6,7.6,7.6,7.6,7.6,7.6,7.6,7.6,7.6,7.6,7.6,7.6,7.6,7.6,7.6,7.6,7.6,7.6],\"xaxis\":\"x\",\"y\":[2343110,1620367,2303232,1129952,689845,1642758,1826188,1213505,2067042,1854740,1661481,1809221,688390,1485555,1676426,1020727,1159315,918088,55291,552778,54995,1512360,699256,651376,1235804,1147794,623629,1445096,1270197,1231473,42004,315744,405801,939252,717585,760360,1190259,1189773,729603,1341460,1034705,991208,1035236,942045,995506,230763,235231,1058081,302844,604211,522093,217881,167839,62635,34112,28401,194838,156479,375110,809955,834477,384171,1357682,1516346,344445,168895,999790,358685,515451,1125712,343171,311365,884112,898237,606398,787806,30273,34357,450474,108862,178092,444074,201632,203150,425844,27793,71875,30722,281623,220002,150023,33935,78925,1267869,911664,703810,782001,766870,1069738,861606,65341,887429,959181,918562,675146,59056,652719,369007,740911,950470,231855,724636,241513,757904,603517,232772,268085,164363,299198,364368,218957,68463,146427,143525,403351,143434,159992,113314,33893,43444,36680,377884,432610,31142,75348,104761,70367,60701,40382,61137,82365,42341,33237,193217,435950,1129894,935507,1187498,74129,517359,618623,757032,1032749,111937,33354,1308302,83005,331308,333915,848920,57057,535216,531967,64118,577113,466276,49300,375935,692366,26402,291180,793164,112505,321860,116945,26875,43885,51284,500875,224730,293811,111244,69458,243943,96381,164939,28810,158335,53153,152572,120539,114304,29915,101053,41985,63134,39216,47708,141516,113649,50700,50445,647884,371538,177059,159171,46547,163061,51739,707630,859695,38803,435928,616228,75721,640533,432811,291289,420316,51679,57806,67927,601149,882316,73891,720450,764493,48582,253575,164462,666773,572921,856916,43137,635975,334320,37820,236311,73992,139558,66803,1000639,949565,832846,223741,815505,38847,105036,911573,59020,939631,50862,732620,124383,634716,617444,55220,150345,63516,272291,90729,63122,867615,156842,25088,29662,425457,363401,381222,91188,150924,371271,76081,31595,57784,693827,220078,367250,311361,518546,144911,149843,40081,294230,42285,30206,81021,45434,161984,103191,46947,53089,29682,50058,33044,68827,31728,26697,27254,105291,219466,34797,42940,46678,203463,142107,54588,31568,29807,158731,30935,28450,123942,107017,290074,33829,94016,47676,30205,46865,81156,57428,27978,37556,52897,72245,52848,505918,213970,760094,434143,102972,38746,141923,31886,51069,81770,114316,685201,1043455,461823,540772,450349,705589,462252,79200,639603,428521,902669,45803,28749,211427,98575,31838,798882,699673,98097,1260806,88656,441614,448930,499439,604694,50610,738512,103284,56960,641645,582239,683900,42399,77520,77554,176151,63460,117857,1015122,415218,657047,45403,137963,33592,740086,289742,102285,82002,58192,78341,36419,172083,27721,86838,37564,578443,129231,300208,577991,28825,263918,373845,142110,417178,240266,89429,473064,164918,393899,64722,31163,150140,799795,217664,32195,65625,251823,543388,235652,143359,121627,362393,44748,42456,39491,27067,201888,193674,165167,253676,68926,205425,69903,198219,108844,28057,75067,66621,56305,59847,98431,45062,28137,81702,81980,58314,61503,51046,127256,99182,26784,34485,129783,32784,35601,42725,57259,65101,148928,85559,371379,26725,26642,57318,53054,454203,111478,62754,246644,212651,53818,139114,111483,189400,85109,587775,466134,297918,594181,860823,141457,659763,41995,230624,600004,93090,324720,93560,335152,205609,638202,289415,47720,335533,56625,577336,390334,174125,154011,107290,580708,199696,31476,57430,939644,512249,51325,419420,552493,173999,104691,44618,42897,508771,49721,465113,252586,322031,527512,239473,51943,31590,206918,89836,34529,201000,447368,68076,54670,281842,67176,187567,128812,132947,183182,131436,28223,111512,103031,37183,39897,38737,52397,70826,93741,77401,116557,29003,67804,68689,71122,124339,26542,28421,63560,80316,40313,97222,123341,52573,41625,92306,78796,33549,63550,53667,47175,30580,78991,42117,88794,237392,25344,27187,51240,555092,57168,200876,61594,27175,118035,40416,246963,35539,556608,663649,517059,143250,50778,51841,45002,81125,50523,39710,410983,303032,33618,73690,203177,108399,318789,305611,362942,35713,111252,423010,421244,62848,179264,52758,58468,601408,68715,208994,89896,33931,340584,564791,190748,110656,757377,30827,251370,571571,392449,1118998,216421,291018,439856,463466,589160,49050,45717,258924,51980,31658,283310,234207,35682,520284,96703,42673,50622,26518,129022,60684,198089,253228,89058,524235,227143,159886,82855,613941,1046089,27712,280845,345096,62428,164937,215034,126871,78963,66065,34635,267684,128171,43690,46700,55362,42376,126082,184740,125276,124193,122779,45624,481918,88214,371387,148359,321382,47834,244430,78321,357026,51585,355413,56235,88511,372490,133351,52852,65659,44917,98611,25229,37445,66009,48334,178731,101124,27733,39642,102415,86525,158029,52141,37605,27007,73251,28167,36995,31053,59556,43621,47400,55163,43542,55581,25312,65341,140375,25198,478586,205444,492851,291257,47444,157498,32798,404182,590440,344312,123210,580291,138741,32628,39379,736182,39501,112298,380195,56720,77071,388089,323982,769145,463188,73964,624982,645512,717559,630614,661871,572581,472242,479120,125317,103330,71379,239203,81446,60368,28630,115576,474141,32001,175355,466080,299524,28003,61609,405922,72643,323103,288797,419483,127250,434841,358432,138356,415074,548619,329592,197761,400049,25938,137981,40403,142863,178565,364254,246840,90842,126770,31957,516372,29210,286742,29999,192112,241575,66408,390247,169229,64082,312542,275755,434125,37424,279318,51350,189716,35991,32236,26429,33600,211450,42275,224169,50298,85819,150409,77798,95826,235388,66941,113240,125822,182009,33982,40396,94326,115677,102031,181285,47102,59635,39881,36096,112704,226541,47099,214882,27014,233106,39889,36037,26729,125993,109941,96561,98740,110075,143292,51913,31572,67183,40274,31222,48883,35999,174119,171739,26457,31354,87719,27620,44839,83363,26464,59415,34677,76315,71481,27991,88662,30683,60408,140840,551309,29765,95181,46739,99643,66346,52903,35785,569974,439406,58371,287659,250057,272784,371291,247666,49397,204175,94212,411599,57549,190531,228132,80939,334312,311822,38491,500851,315426,524081,63882,369529,138959,520041,102742,583158,293266,41544,286770,227760,255036,31779,339757,250590,82781,72863,354728,49728,474827,732876,206294,500799,294140,379020,83158,65939,67360,70925,67370,224545,62659,198677,169708,451479,376853,169091,266842,115827,658185,337651,240714,243729,508417,91557,490062,188317,172710,256906,259753,65058,187927,186734,131101,102598,364420,90442,73172,269197,64390,171640,165465,107325,27071,80487,488817,359809,195663,237696,152871,124773,236894,87745,27650,166588,93878,32802,121731,33656,73662,184966,26337,30144,45338,166409,56513,40351,166544,34075,43374,26471,51853],\"yaxis\":\"y\",\"type\":\"scatter\"}],                        {\"template\":{\"data\":{\"histogram2dcontour\":[{\"type\":\"histogram2dcontour\",\"colorbar\":{\"outlinewidth\":0,\"ticks\":\"\"},\"colorscale\":[[0.0,\"#0d0887\"],[0.1111111111111111,\"#46039f\"],[0.2222222222222222,\"#7201a8\"],[0.3333333333333333,\"#9c179e\"],[0.4444444444444444,\"#bd3786\"],[0.5555555555555556,\"#d8576b\"],[0.6666666666666666,\"#ed7953\"],[0.7777777777777778,\"#fb9f3a\"],[0.8888888888888888,\"#fdca26\"],[1.0,\"#f0f921\"]]}],\"choropleth\":[{\"type\":\"choropleth\",\"colorbar\":{\"outlinewidth\":0,\"ticks\":\"\"}}],\"histogram2d\":[{\"type\":\"histogram2d\",\"colorbar\":{\"outlinewidth\":0,\"ticks\":\"\"},\"colorscale\":[[0.0,\"#0d0887\"],[0.1111111111111111,\"#46039f\"],[0.2222222222222222,\"#7201a8\"],[0.3333333333333333,\"#9c179e\"],[0.4444444444444444,\"#bd3786\"],[0.5555555555555556,\"#d8576b\"],[0.6666666666666666,\"#ed7953\"],[0.7777777777777778,\"#fb9f3a\"],[0.8888888888888888,\"#fdca26\"],[1.0,\"#f0f921\"]]}],\"heatmap\":[{\"type\":\"heatmap\",\"colorbar\":{\"outlinewidth\":0,\"ticks\":\"\"},\"colorscale\":[[0.0,\"#0d0887\"],[0.1111111111111111,\"#46039f\"],[0.2222222222222222,\"#7201a8\"],[0.3333333333333333,\"#9c179e\"],[0.4444444444444444,\"#bd3786\"],[0.5555555555555556,\"#d8576b\"],[0.6666666666666666,\"#ed7953\"],[0.7777777777777778,\"#fb9f3a\"],[0.8888888888888888,\"#fdca26\"],[1.0,\"#f0f921\"]]}],\"heatmapgl\":[{\"type\":\"heatmapgl\",\"colorbar\":{\"outlinewidth\":0,\"ticks\":\"\"},\"colorscale\":[[0.0,\"#0d0887\"],[0.1111111111111111,\"#46039f\"],[0.2222222222222222,\"#7201a8\"],[0.3333333333333333,\"#9c179e\"],[0.4444444444444444,\"#bd3786\"],[0.5555555555555556,\"#d8576b\"],[0.6666666666666666,\"#ed7953\"],[0.7777777777777778,\"#fb9f3a\"],[0.8888888888888888,\"#fdca26\"],[1.0,\"#f0f921\"]]}],\"contourcarpet\":[{\"type\":\"contourcarpet\",\"colorbar\":{\"outlinewidth\":0,\"ticks\":\"\"}}],\"contour\":[{\"type\":\"contour\",\"colorbar\":{\"outlinewidth\":0,\"ticks\":\"\"},\"colorscale\":[[0.0,\"#0d0887\"],[0.1111111111111111,\"#46039f\"],[0.2222222222222222,\"#7201a8\"],[0.3333333333333333,\"#9c179e\"],[0.4444444444444444,\"#bd3786\"],[0.5555555555555556,\"#d8576b\"],[0.6666666666666666,\"#ed7953\"],[0.7777777777777778,\"#fb9f3a\"],[0.8888888888888888,\"#fdca26\"],[1.0,\"#f0f921\"]]}],\"surface\":[{\"type\":\"surface\",\"colorbar\":{\"outlinewidth\":0,\"ticks\":\"\"},\"colorscale\":[[0.0,\"#0d0887\"],[0.1111111111111111,\"#46039f\"],[0.2222222222222222,\"#7201a8\"],[0.3333333333333333,\"#9c179e\"],[0.4444444444444444,\"#bd3786\"],[0.5555555555555556,\"#d8576b\"],[0.6666666666666666,\"#ed7953\"],[0.7777777777777778,\"#fb9f3a\"],[0.8888888888888888,\"#fdca26\"],[1.0,\"#f0f921\"]]}],\"mesh3d\":[{\"type\":\"mesh3d\",\"colorbar\":{\"outlinewidth\":0,\"ticks\":\"\"}}],\"scatter\":[{\"fillpattern\":{\"fillmode\":\"overlay\",\"size\":10,\"solidity\":0.2},\"type\":\"scatter\"}],\"parcoords\":[{\"type\":\"parcoords\",\"line\":{\"colorbar\":{\"outlinewidth\":0,\"ticks\":\"\"}}}],\"scatterpolargl\":[{\"type\":\"scatterpolargl\",\"marker\":{\"colorbar\":{\"outlinewidth\":0,\"ticks\":\"\"}}}],\"bar\":[{\"error_x\":{\"color\":\"#2a3f5f\"},\"error_y\":{\"color\":\"#2a3f5f\"},\"marker\":{\"line\":{\"color\":\"#E5ECF6\",\"width\":0.5},\"pattern\":{\"fillmode\":\"overlay\",\"size\":10,\"solidity\":0.2}},\"type\":\"bar\"}],\"scattergeo\":[{\"type\":\"scattergeo\",\"marker\":{\"colorbar\":{\"outlinewidth\":0,\"ticks\":\"\"}}}],\"scatterpolar\":[{\"type\":\"scatterpolar\",\"marker\":{\"colorbar\":{\"outlinewidth\":0,\"ticks\":\"\"}}}],\"histogram\":[{\"marker\":{\"pattern\":{\"fillmode\":\"overlay\",\"size\":10,\"solidity\":0.2}},\"type\":\"histogram\"}],\"scattergl\":[{\"type\":\"scattergl\",\"marker\":{\"colorbar\":{\"outlinewidth\":0,\"ticks\":\"\"}}}],\"scatter3d\":[{\"type\":\"scatter3d\",\"line\":{\"colorbar\":{\"outlinewidth\":0,\"ticks\":\"\"}},\"marker\":{\"colorbar\":{\"outlinewidth\":0,\"ticks\":\"\"}}}],\"scattermapbox\":[{\"type\":\"scattermapbox\",\"marker\":{\"colorbar\":{\"outlinewidth\":0,\"ticks\":\"\"}}}],\"scatterternary\":[{\"type\":\"scatterternary\",\"marker\":{\"colorbar\":{\"outlinewidth\":0,\"ticks\":\"\"}}}],\"scattercarpet\":[{\"type\":\"scattercarpet\",\"marker\":{\"colorbar\":{\"outlinewidth\":0,\"ticks\":\"\"}}}],\"carpet\":[{\"aaxis\":{\"endlinecolor\":\"#2a3f5f\",\"gridcolor\":\"white\",\"linecolor\":\"white\",\"minorgridcolor\":\"white\",\"startlinecolor\":\"#2a3f5f\"},\"baxis\":{\"endlinecolor\":\"#2a3f5f\",\"gridcolor\":\"white\",\"linecolor\":\"white\",\"minorgridcolor\":\"white\",\"startlinecolor\":\"#2a3f5f\"},\"type\":\"carpet\"}],\"table\":[{\"cells\":{\"fill\":{\"color\":\"#EBF0F8\"},\"line\":{\"color\":\"white\"}},\"header\":{\"fill\":{\"color\":\"#C8D4E3\"},\"line\":{\"color\":\"white\"}},\"type\":\"table\"}],\"barpolar\":[{\"marker\":{\"line\":{\"color\":\"#E5ECF6\",\"width\":0.5},\"pattern\":{\"fillmode\":\"overlay\",\"size\":10,\"solidity\":0.2}},\"type\":\"barpolar\"}],\"pie\":[{\"automargin\":true,\"type\":\"pie\"}]},\"layout\":{\"autotypenumbers\":\"strict\",\"colorway\":[\"#636efa\",\"#EF553B\",\"#00cc96\",\"#ab63fa\",\"#FFA15A\",\"#19d3f3\",\"#FF6692\",\"#B6E880\",\"#FF97FF\",\"#FECB52\"],\"font\":{\"color\":\"#2a3f5f\"},\"hovermode\":\"closest\",\"hoverlabel\":{\"align\":\"left\"},\"paper_bgcolor\":\"white\",\"plot_bgcolor\":\"#E5ECF6\",\"polar\":{\"bgcolor\":\"#E5ECF6\",\"angularaxis\":{\"gridcolor\":\"white\",\"linecolor\":\"white\",\"ticks\":\"\"},\"radialaxis\":{\"gridcolor\":\"white\",\"linecolor\":\"white\",\"ticks\":\"\"}},\"ternary\":{\"bgcolor\":\"#E5ECF6\",\"aaxis\":{\"gridcolor\":\"white\",\"linecolor\":\"white\",\"ticks\":\"\"},\"baxis\":{\"gridcolor\":\"white\",\"linecolor\":\"white\",\"ticks\":\"\"},\"caxis\":{\"gridcolor\":\"white\",\"linecolor\":\"white\",\"ticks\":\"\"}},\"coloraxis\":{\"colorbar\":{\"outlinewidth\":0,\"ticks\":\"\"}},\"colorscale\":{\"sequential\":[[0.0,\"#0d0887\"],[0.1111111111111111,\"#46039f\"],[0.2222222222222222,\"#7201a8\"],[0.3333333333333333,\"#9c179e\"],[0.4444444444444444,\"#bd3786\"],[0.5555555555555556,\"#d8576b\"],[0.6666666666666666,\"#ed7953\"],[0.7777777777777778,\"#fb9f3a\"],[0.8888888888888888,\"#fdca26\"],[1.0,\"#f0f921\"]],\"sequentialminus\":[[0.0,\"#0d0887\"],[0.1111111111111111,\"#46039f\"],[0.2222222222222222,\"#7201a8\"],[0.3333333333333333,\"#9c179e\"],[0.4444444444444444,\"#bd3786\"],[0.5555555555555556,\"#d8576b\"],[0.6666666666666666,\"#ed7953\"],[0.7777777777777778,\"#fb9f3a\"],[0.8888888888888888,\"#fdca26\"],[1.0,\"#f0f921\"]],\"diverging\":[[0,\"#8e0152\"],[0.1,\"#c51b7d\"],[0.2,\"#de77ae\"],[0.3,\"#f1b6da\"],[0.4,\"#fde0ef\"],[0.5,\"#f7f7f7\"],[0.6,\"#e6f5d0\"],[0.7,\"#b8e186\"],[0.8,\"#7fbc41\"],[0.9,\"#4d9221\"],[1,\"#276419\"]]},\"xaxis\":{\"gridcolor\":\"white\",\"linecolor\":\"white\",\"ticks\":\"\",\"title\":{\"standoff\":15},\"zerolinecolor\":\"white\",\"automargin\":true,\"zerolinewidth\":2},\"yaxis\":{\"gridcolor\":\"white\",\"linecolor\":\"white\",\"ticks\":\"\",\"title\":{\"standoff\":15},\"zerolinecolor\":\"white\",\"automargin\":true,\"zerolinewidth\":2},\"scene\":{\"xaxis\":{\"backgroundcolor\":\"#E5ECF6\",\"gridcolor\":\"white\",\"linecolor\":\"white\",\"showbackground\":true,\"ticks\":\"\",\"zerolinecolor\":\"white\",\"gridwidth\":2},\"yaxis\":{\"backgroundcolor\":\"#E5ECF6\",\"gridcolor\":\"white\",\"linecolor\":\"white\",\"showbackground\":true,\"ticks\":\"\",\"zerolinecolor\":\"white\",\"gridwidth\":2},\"zaxis\":{\"backgroundcolor\":\"#E5ECF6\",\"gridcolor\":\"white\",\"linecolor\":\"white\",\"showbackground\":true,\"ticks\":\"\",\"zerolinecolor\":\"white\",\"gridwidth\":2}},\"shapedefaults\":{\"line\":{\"color\":\"#2a3f5f\"}},\"annotationdefaults\":{\"arrowcolor\":\"#2a3f5f\",\"arrowhead\":0,\"arrowwidth\":1},\"geo\":{\"bgcolor\":\"white\",\"landcolor\":\"#E5ECF6\",\"subunitcolor\":\"white\",\"showland\":true,\"showlakes\":true,\"lakecolor\":\"white\"},\"title\":{\"x\":0.05},\"mapbox\":{\"style\":\"light\"}}},\"xaxis\":{\"anchor\":\"y\",\"domain\":[0.0,1.0],\"title\":{\"text\":\"IMDB Rating\"}},\"yaxis\":{\"anchor\":\"x\",\"domain\":[0.0,1.0],\"title\":{\"text\":\"No. of Votes\"}},\"legend\":{\"tracegroupgap\":0},\"margin\":{\"t\":60},\"title\":{\"text\":\"IMDB Rating vs. No. of Votes\"}},                        {\"responsive\": true}                    ).then(function(){\n",
              "                            \n",
              "var gd = document.getElementById('db816922-253e-41a9-acf4-3821e0ef4f19');\n",
              "var x = new MutationObserver(function (mutations, observer) {{\n",
              "        var display = window.getComputedStyle(gd).display;\n",
              "        if (!display || display === 'none') {{\n",
              "            console.log([gd, 'removed!']);\n",
              "            Plotly.purge(gd);\n",
              "            observer.disconnect();\n",
              "        }}\n",
              "}});\n",
              "\n",
              "// Listen for the removal of the full notebook cells\n",
              "var notebookContainer = gd.closest('#notebook-container');\n",
              "if (notebookContainer) {{\n",
              "    x.observe(notebookContainer, {childList: true});\n",
              "}}\n",
              "\n",
              "// Listen for the clearing of the current output cell\n",
              "var outputEl = gd.closest('.output');\n",
              "if (outputEl) {{\n",
              "    x.observe(outputEl, {childList: true});\n",
              "}}\n",
              "\n",
              "                        })                };                            </script>        </div>\n",
              "</body>\n",
              "</html>"
            ]
          },
          "metadata": {}
        }
      ]
    },
    {
      "cell_type": "code",
      "source": [
        "fig = px.pie(df, names='Certificate')\n",
        "\n",
        "fig.update_layout(\n",
        "    title='Certificate Distribution'\n",
        ")\n",
        "\n",
        "fig.show()"
      ],
      "metadata": {
        "colab": {
          "base_uri": "https://localhost:8080/",
          "height": 542
        },
        "id": "CPa88MYw6oBb",
        "outputId": "55f03ccb-2d40-4dc8-c8f7-fab871a3de48"
      },
      "execution_count": null,
      "outputs": [
        {
          "output_type": "display_data",
          "data": {
            "text/html": [
              "<html>\n",
              "<head><meta charset=\"utf-8\" /></head>\n",
              "<body>\n",
              "    <div>            <script src=\"https://cdnjs.cloudflare.com/ajax/libs/mathjax/2.7.5/MathJax.js?config=TeX-AMS-MML_SVG\"></script><script type=\"text/javascript\">if (window.MathJax && window.MathJax.Hub && window.MathJax.Hub.Config) {window.MathJax.Hub.Config({SVG: {font: \"STIX-Web\"}});}</script>                <script type=\"text/javascript\">window.PlotlyConfig = {MathJaxConfig: 'local'};</script>\n",
              "        <script src=\"https://cdn.plot.ly/plotly-2.18.2.min.js\"></script>                <div id=\"1e71c656-ae52-4038-9fa1-338d5c39234d\" class=\"plotly-graph-div\" style=\"height:525px; width:100%;\"></div>            <script type=\"text/javascript\">                                    window.PLOTLYENV=window.PLOTLYENV || {};                                    if (document.getElementById(\"1e71c656-ae52-4038-9fa1-338d5c39234d\")) {                    Plotly.newPlot(                        \"1e71c656-ae52-4038-9fa1-338d5c39234d\",                        [{\"domain\":{\"x\":[0.0,1.0],\"y\":[0.0,1.0]},\"hovertemplate\":\"Certificate=%{label}<extra></extra>\",\"labels\":[\"A\",\"A\",\"UA\",\"A\",\"U\",\"U\",\"A\",\"A\",\"UA\",\"A\",\"U\",\"UA\",\"A\",\"UA\",\"A\",\"A\",\"UA\",\"A\",\"PG-13\",\"A\",\"U\",\"UA\",\"A\",\"U\",\"R\",\"A\",\"U\",\"A\",\"A\",\"UA\",null,\"U\",\"PG\",\"A\",\"A\",\"UA\",\"U\",\"A\",\"R\",\"UA\",\"R\",\"A\",\"A\",\"U\",\"U\",\"U\",\"U\",\"U\",\"U\",\"A\",\"U\",\"G\",\"G\",\"A\",null,\"UA\",\"U\",\"U\",\"U\",\"UA\",\"UA\",\"U\",\"A\",\"UA\",\"UA\",\"U\",\"U\",\"A\",\"A\",\"UA\",\"U\",\"A\",\"A\",\"A\",\"R\",\"R\",\"U\",null,\"A\",\"U\",\"A\",\"U\",\"Passed\",\"Passed\",\"R\",\"A\",\"UA\",\"U\",\"R\",\"PG-13\",\"R\",\"TV-14\",null,\"A\",\"UA\",\"U\",\"UA\",\"A\",\"UA\",\"U\",\"PG\",\"U\",\"A\",\"R\",\"UA\",\"A\",\"U\",\"R\",\"A\",\"U\",\"R\",\"A\",\"U\",\"A\",\"U\",\"U\",\"U\",\"U\",\"U\",\"A\",\"G\",null,null,\"Passed\",\"UA\",\"Passed\",null,\"Passed\",\"UA\",\"UA\",\"UA\",\"UA\",\"A\",\"UA\",\"UA\",\"PG\",\"UA\",\"UA\",null,\"U\",\"A\",\"UA\",\"UA\",\"R\",\"UA\",\"A\",\"U\",\"A\",\"U\",\"A\",\"UA\",\"U\",\"A\",\"UA\",\"U\",\"UA\",\"U\",\"R\",\"U\",\"UA\",\"U\",\"A\",\"A\",null,\"A\",\"A\",\"U\",\"A\",\"U\",\"R\",\"U\",\"A\",\"U\",\"A\",\"U\",\"U\",\"PG\",\"U\",\"PG\",\"U\",\"U\",null,\"A\",\"U\",\"U\",\"A\",null,\"A\",\"U\",null,\"Passed\",\"Passed\",\"Passed\",\"Passed\",\"Passed\",\"R\",\"UA\",\"16\",\"TV-MA\",\"A\",\"R\",\"UA\",\"A\",\"R\",\"R\",\"U\",null,\"UA\",\"U\",\"UA\",\"A\",\"U\",\"A\",\"U\",\"U\",\"A\",\"UA\",\"UA\",\"A\",\"PG\",\"UA\",\"U\",\"A\",\"UA\",\"UA\",\"R\",\"UA\",\"PG-13\",\"G\",null,\"U\",\"R\",\"R\",\"U\",\"UA\",\"PG-13\",\"R\",\"R\",\"U\",\"UA\",\"Unrated\",\"R\",\"U\",\"A\",\"A\",\"U\",\"UA\",\"U\",\"A\",\"U\",\"U\",\"R\",\"R\",\"U\",\"A\",\"A\",null,\"UA\",\"U\",\"R\",\"U\",\"U\",\"UA\",\"UA\",\"R\",\"PG\",\"U\",\"U\",\"A\",\"U\",\"U\",\"A\",\"UA\",\"R\",\"A\",\"UA\",\"UA\",\"R\",\"A\",\"U\",\"UA\",\"PG\",\"G\",\"UA\",\"U\",\"A\",\"PG\",\"GP\",\"A\",null,\"R\",null,null,\"Passed\",\"U\",null,null,\"A\",\"Passed\",null,\"U\",null,null,null,\"PG\",\"A\",\"U\",\"Approved\",null,\"Approved\",null,null,\"Approved\",\"Passed\",\"U\",null,\"Approved\",\"Passed\",\"Passed\",\"Passed\",\"Passed\",null,\"UA\",\"U\",\"UA\",\"UA\",\"UA\",\"A\",\"U\",\"UA\",\"U\",\"UA\",\"U\",\"U\",\"UA\",\"UA\",\"R\",\"A\",\"UA\",\"UA\",\"UA\",\"A\",\"UA\",\"A\",\"UA\",null,\"U\",\"UA\",\"R\",\"TV-PG\",\"A\",\"R\",\"UA\",null,\"UA\",\"A\",\"R\",\"UA\",\"PG-13\",\"R\",\"U\",\"A\",\"UA\",\"U\",\"A\",\"PG-13\",null,\"U\",\"PG-13\",\"A\",null,\"R\",\"U\",\"UA\",\"U\",\"UA\",\"UA\",\"U\",\"U\",null,\"R\",null,\"R\",\"R\",\"U\",\"U\",\"A\",\"R\",\"R\",\"PG\",null,\"R\",\"U\",\"A\",\"UA\",\"U\",\"U\",\"R\",\"UA\",\"U\",\"UA\",\"G\",\"U\",\"R\",\"U\",\"UA\",\"U\",\"U\",\"U\",\"U\",\"UA\",\"U\",\"U\",\"PG\",\"A\",\"A\",\"U\",\"A\",\"R\",\"A\",\"PG\",\"R\",\"G\",\"UA\",\"PG\",\"A\",\"U\",\"A\",\"A\",\"U\",\"A\",\"A\",null,null,\"A\",\"A\",\"Passed\",null,\"PG-13\",\"A\",\"Approved\",\"Approved\",null,null,null,null,null,\"A\",null,\"U\",\"A\",null,\"U\",\"Passed\",\"Approved\",null,null,\"Passed\",\"U\",null,\"TV-PG\",\"U\",null,\"UA\",\"UA\",\"A\",\"U\",\"UA\",\"UA\",\"U\",\"UA\",\"R\",\"PG-13\",\"UA\",\"A\",\"UA\",\"UA\",\"U\",\"R\",\"UA\",null,\"U\",\"UA\",\"UA\",\"R\",\"A\",\"R\",\"R\",\"A\",\"UA\",\"U\",\"A\",null,\"UA\",\"R\",null,\"UA\",\"R\",\"U\",\"PG\",null,\"PG-13\",\"UA\",\"UA\",\"R\",\"A\",\"U\",\"PG-13\",\"R\",\"R\",\"U\",\"UA\",\"R\",\"A\",\"A\",\"R\",\"U\",\"R\",\"U\",\"A\",\"R\",\"U\",\"A\",\"A\",\"U\",\"U\",\"PG-13\",\"A\",\"PG-13\",\"U\",\"R\",\"U\",\"U\",\"R\",\"A\",\"A\",\"U\",\"R\",\"R\",\"PG\",null,\"PG\",\"U\",\"A\",null,\"PG\",\"U\",\"U\",\"PG-13\",\"A\",\"U\",null,\"U\",\"Passed\",\"U\",\"PG\",\"A\",\"Approved\",null,\"U\",\"Passed\",\"Passed\",null,\"Passed\",\"PG\",\"Passed\",\"Passed\",null,null,\"A\",\"UA\",\"R\",\"UA\",\"UA\",null,\"UA\",\"U\",\"A\",\"PG\",\"U\",\"UA\",\"R\",\"UA\",\"UA\",\"A\",\"U\",\"UA\",\"R\",\"PG-13\",null,\"U\",\"UA\",\"U\",\"R\",\"U\",\"PG-13\",\"U\",\"R\",\"A\",\"U\",\"A\",null,null,\"R\",\"UA\",\"R\",\"R\",\"R\",null,\"UA\",\"UA\",\"R\",\"R\",null,\"UA\",\"A\",\"PG-13\",\"R\",\"UA\",null,\"R\",\"A\",\"A\",\"UA\",\"R\",\"A\",\"UA\",\"UA\",\"UA\",\"U\",\"R\",\"PG\",\"U\",\"UA\",\"PG-13\",\"PG-13\",null,\"A\",\"U\",\"R\",\"PG-13\",null,\"PG-13\",\"R\",\"U\",\"UA\",\"R\",\"UA\",\"R\",\"UA\",\"PG\",\"U\",\"UA\",null,\"UA\",\"UA\",\"R\",\"U\",\"U\",\"R\",\"U\",\"U\",null,\"U\",\"R\",\"PG\",\"R\",\"R\",\"R\",\"A\",\"R\",\"U\",\"U\",\"R\",\"R\",\"U\",\"A\",\"A\",\"A\",\"U\",\"R\",\"U\",\"U\",\"UA\",\"UA\",\"UA\",\"PG\",\"U\",\"U\",\"A\",\"PG\",\"A\",\"PG\",\"U\",\"U\",\"A\",\"PG\",\"A\",\"U\",\"A\",null,null,\"A\",\"U\",\"U\",\"G\",null,\"A\",\"U\",\"Passed\",null,\"PG\",\"PG\",\"Passed\",null,\"Passed\",null,null,\"PG\",\"Passed\",\"R\",null,\"R\",\"R\",\"R\",\"UA\",\"PG-13\",\"R\",\"U\",\"U\",\"A\",\"UA\",\"PG-13\",\"A\",\"A\",\"U\",null,\"UA\",\"UA\",\"UA\",\"U\",\"PG\",null,\"PG-13\",\"U\",\"UA\",\"UA\",null,\"UA\",\"UA\",\"UA\",\"UA\",\"A\",\"A\",\"UA\",\"A\",\"U\",\"R\",\"U\",\"R\",\"PG\",\"U\",null,null,\"UA\",\"R\",\"R\",\"UA\",\"R\",\"PG-13\",\"R\",\"U\",\"R\",\"A\",\"A\",\"UA\",\"UA\",\"A\",\"R\",\"A\",\"UA\",\"UA\",\"UA\",\"U\",\"UA\",\"R\",\"R\",\"PG-13\",\"PG-13\",\"R\",\"A\",\"A\",\"R\",\"R\",\"R\",\"UA\",\"U\",\"U\",\"R\",\"A\",\"R\",null,\"A\",\"UA\",\"U\",\"R\",\"A\",\"UA\",\"PG-13\",\"A\",\"U\",\"A\",\"PG-13\",\"U\",\"UA\",\"U\",\"R\",\"R\",\"UA\",\"G\",\"U\",\"UA\",\"U\",\"R\",\"U\",\"PG-13\",\"U\",\"R\",\"U\",null,\"R\",\"U\",\"U\",\"R\",\"A\",\"U\",\"UA\",\"PG\",\"U\",\"U\",\"A\",\"U\",\"U\",\"U\",\"A\",\"R\",\"PG\",\"U\",\"A\",\"A\",\"A\",\"U\",\"A\",\"A\",\"U\",\"G\",null,\"A\",\"U\",null,\"U\",\"A\",\"A\",\"Passed\",null,\"Approved\",null,\"Approved\",\"PG-13\",null,\"Passed\",\"Passed\",\"U\",\"PG\",\"Approved\",\"G\",\"TV-PG\",\"PG-13\",\"U/A\",\"A\",\"R\",\"A\",\"A\",\"PG-13\",\"PG-13\",null,\"PG-13\",\"UA\",\"UA\",\"UA\",\"UA\",\"UA\",\"U\",\"A\",\"A\",\"R\",\"R\",\"PG-13\",\"UA\",null,\"A\",\"A\",\"U\",\"UA\",\"PG-13\",\"R\",\"U\",\"R\",\"UA\",null,\"PG-13\",\"R\",\"A\",null,\"PG-13\",\"UA\",\"PG-13\",\"UA\",\"R\",\"U\",null,\"R\",\"R\",\"PG-13\",\"PG-13\",\"U\",null,\"UA\",\"A\",\"R\",\"A\",\"R\",\"UA\",\"R\",\"R\",\"R\",\"U\",\"R\",\"UA\",\"R\",\"U\",\"R\",\"U\",\"A\",null,\"A\",\"A\",\"U\",\"PG-13\",\"R\",\"A\",\"A\",\"R\",\"A\",\"UA\",\"A\",\"U\",\"R\",\"A\",\"A\",\"UA\",\"A\",\"U\",\"A\",\"R\",\"A\",\"U\",\"U\",\"R\",\"U\",\"UA\",\"U\",\"R\",\"U\",\"A\",\"UA\",\"U\",\"U\",\"U\",\"A\",\"A\",\"UA\",\"A\",\"UA\",\"U\",\"A\",\"U\",\"A\",\"U\",\"A\",\"PG\",\"GP\",\"U\",\"A\",\"U\",\"A\",\"G\",\"Passed\",null,null],\"legendgroup\":\"\",\"name\":\"\",\"showlegend\":true,\"type\":\"pie\"}],                        {\"template\":{\"data\":{\"histogram2dcontour\":[{\"type\":\"histogram2dcontour\",\"colorbar\":{\"outlinewidth\":0,\"ticks\":\"\"},\"colorscale\":[[0.0,\"#0d0887\"],[0.1111111111111111,\"#46039f\"],[0.2222222222222222,\"#7201a8\"],[0.3333333333333333,\"#9c179e\"],[0.4444444444444444,\"#bd3786\"],[0.5555555555555556,\"#d8576b\"],[0.6666666666666666,\"#ed7953\"],[0.7777777777777778,\"#fb9f3a\"],[0.8888888888888888,\"#fdca26\"],[1.0,\"#f0f921\"]]}],\"choropleth\":[{\"type\":\"choropleth\",\"colorbar\":{\"outlinewidth\":0,\"ticks\":\"\"}}],\"histogram2d\":[{\"type\":\"histogram2d\",\"colorbar\":{\"outlinewidth\":0,\"ticks\":\"\"},\"colorscale\":[[0.0,\"#0d0887\"],[0.1111111111111111,\"#46039f\"],[0.2222222222222222,\"#7201a8\"],[0.3333333333333333,\"#9c179e\"],[0.4444444444444444,\"#bd3786\"],[0.5555555555555556,\"#d8576b\"],[0.6666666666666666,\"#ed7953\"],[0.7777777777777778,\"#fb9f3a\"],[0.8888888888888888,\"#fdca26\"],[1.0,\"#f0f921\"]]}],\"heatmap\":[{\"type\":\"heatmap\",\"colorbar\":{\"outlinewidth\":0,\"ticks\":\"\"},\"colorscale\":[[0.0,\"#0d0887\"],[0.1111111111111111,\"#46039f\"],[0.2222222222222222,\"#7201a8\"],[0.3333333333333333,\"#9c179e\"],[0.4444444444444444,\"#bd3786\"],[0.5555555555555556,\"#d8576b\"],[0.6666666666666666,\"#ed7953\"],[0.7777777777777778,\"#fb9f3a\"],[0.8888888888888888,\"#fdca26\"],[1.0,\"#f0f921\"]]}],\"heatmapgl\":[{\"type\":\"heatmapgl\",\"colorbar\":{\"outlinewidth\":0,\"ticks\":\"\"},\"colorscale\":[[0.0,\"#0d0887\"],[0.1111111111111111,\"#46039f\"],[0.2222222222222222,\"#7201a8\"],[0.3333333333333333,\"#9c179e\"],[0.4444444444444444,\"#bd3786\"],[0.5555555555555556,\"#d8576b\"],[0.6666666666666666,\"#ed7953\"],[0.7777777777777778,\"#fb9f3a\"],[0.8888888888888888,\"#fdca26\"],[1.0,\"#f0f921\"]]}],\"contourcarpet\":[{\"type\":\"contourcarpet\",\"colorbar\":{\"outlinewidth\":0,\"ticks\":\"\"}}],\"contour\":[{\"type\":\"contour\",\"colorbar\":{\"outlinewidth\":0,\"ticks\":\"\"},\"colorscale\":[[0.0,\"#0d0887\"],[0.1111111111111111,\"#46039f\"],[0.2222222222222222,\"#7201a8\"],[0.3333333333333333,\"#9c179e\"],[0.4444444444444444,\"#bd3786\"],[0.5555555555555556,\"#d8576b\"],[0.6666666666666666,\"#ed7953\"],[0.7777777777777778,\"#fb9f3a\"],[0.8888888888888888,\"#fdca26\"],[1.0,\"#f0f921\"]]}],\"surface\":[{\"type\":\"surface\",\"colorbar\":{\"outlinewidth\":0,\"ticks\":\"\"},\"colorscale\":[[0.0,\"#0d0887\"],[0.1111111111111111,\"#46039f\"],[0.2222222222222222,\"#7201a8\"],[0.3333333333333333,\"#9c179e\"],[0.4444444444444444,\"#bd3786\"],[0.5555555555555556,\"#d8576b\"],[0.6666666666666666,\"#ed7953\"],[0.7777777777777778,\"#fb9f3a\"],[0.8888888888888888,\"#fdca26\"],[1.0,\"#f0f921\"]]}],\"mesh3d\":[{\"type\":\"mesh3d\",\"colorbar\":{\"outlinewidth\":0,\"ticks\":\"\"}}],\"scatter\":[{\"fillpattern\":{\"fillmode\":\"overlay\",\"size\":10,\"solidity\":0.2},\"type\":\"scatter\"}],\"parcoords\":[{\"type\":\"parcoords\",\"line\":{\"colorbar\":{\"outlinewidth\":0,\"ticks\":\"\"}}}],\"scatterpolargl\":[{\"type\":\"scatterpolargl\",\"marker\":{\"colorbar\":{\"outlinewidth\":0,\"ticks\":\"\"}}}],\"bar\":[{\"error_x\":{\"color\":\"#2a3f5f\"},\"error_y\":{\"color\":\"#2a3f5f\"},\"marker\":{\"line\":{\"color\":\"#E5ECF6\",\"width\":0.5},\"pattern\":{\"fillmode\":\"overlay\",\"size\":10,\"solidity\":0.2}},\"type\":\"bar\"}],\"scattergeo\":[{\"type\":\"scattergeo\",\"marker\":{\"colorbar\":{\"outlinewidth\":0,\"ticks\":\"\"}}}],\"scatterpolar\":[{\"type\":\"scatterpolar\",\"marker\":{\"colorbar\":{\"outlinewidth\":0,\"ticks\":\"\"}}}],\"histogram\":[{\"marker\":{\"pattern\":{\"fillmode\":\"overlay\",\"size\":10,\"solidity\":0.2}},\"type\":\"histogram\"}],\"scattergl\":[{\"type\":\"scattergl\",\"marker\":{\"colorbar\":{\"outlinewidth\":0,\"ticks\":\"\"}}}],\"scatter3d\":[{\"type\":\"scatter3d\",\"line\":{\"colorbar\":{\"outlinewidth\":0,\"ticks\":\"\"}},\"marker\":{\"colorbar\":{\"outlinewidth\":0,\"ticks\":\"\"}}}],\"scattermapbox\":[{\"type\":\"scattermapbox\",\"marker\":{\"colorbar\":{\"outlinewidth\":0,\"ticks\":\"\"}}}],\"scatterternary\":[{\"type\":\"scatterternary\",\"marker\":{\"colorbar\":{\"outlinewidth\":0,\"ticks\":\"\"}}}],\"scattercarpet\":[{\"type\":\"scattercarpet\",\"marker\":{\"colorbar\":{\"outlinewidth\":0,\"ticks\":\"\"}}}],\"carpet\":[{\"aaxis\":{\"endlinecolor\":\"#2a3f5f\",\"gridcolor\":\"white\",\"linecolor\":\"white\",\"minorgridcolor\":\"white\",\"startlinecolor\":\"#2a3f5f\"},\"baxis\":{\"endlinecolor\":\"#2a3f5f\",\"gridcolor\":\"white\",\"linecolor\":\"white\",\"minorgridcolor\":\"white\",\"startlinecolor\":\"#2a3f5f\"},\"type\":\"carpet\"}],\"table\":[{\"cells\":{\"fill\":{\"color\":\"#EBF0F8\"},\"line\":{\"color\":\"white\"}},\"header\":{\"fill\":{\"color\":\"#C8D4E3\"},\"line\":{\"color\":\"white\"}},\"type\":\"table\"}],\"barpolar\":[{\"marker\":{\"line\":{\"color\":\"#E5ECF6\",\"width\":0.5},\"pattern\":{\"fillmode\":\"overlay\",\"size\":10,\"solidity\":0.2}},\"type\":\"barpolar\"}],\"pie\":[{\"automargin\":true,\"type\":\"pie\"}]},\"layout\":{\"autotypenumbers\":\"strict\",\"colorway\":[\"#636efa\",\"#EF553B\",\"#00cc96\",\"#ab63fa\",\"#FFA15A\",\"#19d3f3\",\"#FF6692\",\"#B6E880\",\"#FF97FF\",\"#FECB52\"],\"font\":{\"color\":\"#2a3f5f\"},\"hovermode\":\"closest\",\"hoverlabel\":{\"align\":\"left\"},\"paper_bgcolor\":\"white\",\"plot_bgcolor\":\"#E5ECF6\",\"polar\":{\"bgcolor\":\"#E5ECF6\",\"angularaxis\":{\"gridcolor\":\"white\",\"linecolor\":\"white\",\"ticks\":\"\"},\"radialaxis\":{\"gridcolor\":\"white\",\"linecolor\":\"white\",\"ticks\":\"\"}},\"ternary\":{\"bgcolor\":\"#E5ECF6\",\"aaxis\":{\"gridcolor\":\"white\",\"linecolor\":\"white\",\"ticks\":\"\"},\"baxis\":{\"gridcolor\":\"white\",\"linecolor\":\"white\",\"ticks\":\"\"},\"caxis\":{\"gridcolor\":\"white\",\"linecolor\":\"white\",\"ticks\":\"\"}},\"coloraxis\":{\"colorbar\":{\"outlinewidth\":0,\"ticks\":\"\"}},\"colorscale\":{\"sequential\":[[0.0,\"#0d0887\"],[0.1111111111111111,\"#46039f\"],[0.2222222222222222,\"#7201a8\"],[0.3333333333333333,\"#9c179e\"],[0.4444444444444444,\"#bd3786\"],[0.5555555555555556,\"#d8576b\"],[0.6666666666666666,\"#ed7953\"],[0.7777777777777778,\"#fb9f3a\"],[0.8888888888888888,\"#fdca26\"],[1.0,\"#f0f921\"]],\"sequentialminus\":[[0.0,\"#0d0887\"],[0.1111111111111111,\"#46039f\"],[0.2222222222222222,\"#7201a8\"],[0.3333333333333333,\"#9c179e\"],[0.4444444444444444,\"#bd3786\"],[0.5555555555555556,\"#d8576b\"],[0.6666666666666666,\"#ed7953\"],[0.7777777777777778,\"#fb9f3a\"],[0.8888888888888888,\"#fdca26\"],[1.0,\"#f0f921\"]],\"diverging\":[[0,\"#8e0152\"],[0.1,\"#c51b7d\"],[0.2,\"#de77ae\"],[0.3,\"#f1b6da\"],[0.4,\"#fde0ef\"],[0.5,\"#f7f7f7\"],[0.6,\"#e6f5d0\"],[0.7,\"#b8e186\"],[0.8,\"#7fbc41\"],[0.9,\"#4d9221\"],[1,\"#276419\"]]},\"xaxis\":{\"gridcolor\":\"white\",\"linecolor\":\"white\",\"ticks\":\"\",\"title\":{\"standoff\":15},\"zerolinecolor\":\"white\",\"automargin\":true,\"zerolinewidth\":2},\"yaxis\":{\"gridcolor\":\"white\",\"linecolor\":\"white\",\"ticks\":\"\",\"title\":{\"standoff\":15},\"zerolinecolor\":\"white\",\"automargin\":true,\"zerolinewidth\":2},\"scene\":{\"xaxis\":{\"backgroundcolor\":\"#E5ECF6\",\"gridcolor\":\"white\",\"linecolor\":\"white\",\"showbackground\":true,\"ticks\":\"\",\"zerolinecolor\":\"white\",\"gridwidth\":2},\"yaxis\":{\"backgroundcolor\":\"#E5ECF6\",\"gridcolor\":\"white\",\"linecolor\":\"white\",\"showbackground\":true,\"ticks\":\"\",\"zerolinecolor\":\"white\",\"gridwidth\":2},\"zaxis\":{\"backgroundcolor\":\"#E5ECF6\",\"gridcolor\":\"white\",\"linecolor\":\"white\",\"showbackground\":true,\"ticks\":\"\",\"zerolinecolor\":\"white\",\"gridwidth\":2}},\"shapedefaults\":{\"line\":{\"color\":\"#2a3f5f\"}},\"annotationdefaults\":{\"arrowcolor\":\"#2a3f5f\",\"arrowhead\":0,\"arrowwidth\":1},\"geo\":{\"bgcolor\":\"white\",\"landcolor\":\"#E5ECF6\",\"subunitcolor\":\"white\",\"showland\":true,\"showlakes\":true,\"lakecolor\":\"white\"},\"title\":{\"x\":0.05},\"mapbox\":{\"style\":\"light\"}}},\"legend\":{\"tracegroupgap\":0},\"margin\":{\"t\":60},\"title\":{\"text\":\"Certificate Distribution\"}},                        {\"responsive\": true}                    ).then(function(){\n",
              "                            \n",
              "var gd = document.getElementById('1e71c656-ae52-4038-9fa1-338d5c39234d');\n",
              "var x = new MutationObserver(function (mutations, observer) {{\n",
              "        var display = window.getComputedStyle(gd).display;\n",
              "        if (!display || display === 'none') {{\n",
              "            console.log([gd, 'removed!']);\n",
              "            Plotly.purge(gd);\n",
              "            observer.disconnect();\n",
              "        }}\n",
              "}});\n",
              "\n",
              "// Listen for the removal of the full notebook cells\n",
              "var notebookContainer = gd.closest('#notebook-container');\n",
              "if (notebookContainer) {{\n",
              "    x.observe(notebookContainer, {childList: true});\n",
              "}}\n",
              "\n",
              "// Listen for the clearing of the current output cell\n",
              "var outputEl = gd.closest('.output');\n",
              "if (outputEl) {{\n",
              "    x.observe(outputEl, {childList: true});\n",
              "}}\n",
              "\n",
              "                        })                };                            </script>        </div>\n",
              "</body>\n",
              "</html>"
            ]
          },
          "metadata": {}
        }
      ]
    },
    {
      "cell_type": "code",
      "source": [
        "fig = px.bar(df.groupby('Director')['IMDB_Rating'].mean(), x=df.groupby('Director')['IMDB_Rating'].mean().index, y=df.groupby('Director')['IMDB_Rating'].mean().values)\n",
        "\n",
        "fig.update_layout(\n",
        "    title='Average IMDB Rating by Director',\n",
        "    xaxis_title='Director',\n",
        "    yaxis_title='Average IMDB Rating'\n",
        ")\n",
        "\n",
        "fig.show()"
      ],
      "metadata": {
        "colab": {
          "base_uri": "https://localhost:8080/",
          "height": 542
        },
        "id": "g-dJ7elN6Xz5",
        "outputId": "e3ea90ab-9407-4d4f-a692-25a60600cb70"
      },
      "execution_count": null,
      "outputs": [
        {
          "output_type": "display_data",
          "data": {
            "text/html": [
              "<html>\n",
              "<head><meta charset=\"utf-8\" /></head>\n",
              "<body>\n",
              "    <div>            <script src=\"https://cdnjs.cloudflare.com/ajax/libs/mathjax/2.7.5/MathJax.js?config=TeX-AMS-MML_SVG\"></script><script type=\"text/javascript\">if (window.MathJax && window.MathJax.Hub && window.MathJax.Hub.Config) {window.MathJax.Hub.Config({SVG: {font: \"STIX-Web\"}});}</script>                <script type=\"text/javascript\">window.PlotlyConfig = {MathJaxConfig: 'local'};</script>\n",
              "        <script src=\"https://cdn.plot.ly/plotly-2.18.2.min.js\"></script>                <div id=\"9249a608-721a-49fa-b49f-26ff2f390a8c\" class=\"plotly-graph-div\" style=\"height:525px; width:100%;\"></div>            <script type=\"text/javascript\">                                    window.PLOTLYENV=window.PLOTLYENV || {};                                    if (document.getElementById(\"9249a608-721a-49fa-b49f-26ff2f390a8c\")) {                    Plotly.newPlot(                        \"9249a608-721a-49fa-b49f-26ff2f390a8c\",                        [{\"alignmentgroup\":\"True\",\"hovertemplate\":\"x=%{x}<br>y=%{y}<extra></extra>\",\"legendgroup\":\"\",\"marker\":{\"color\":\"#636efa\",\"pattern\":{\"shape\":\"\"}},\"name\":\"\",\"offsetgroup\":\"\",\"orientation\":\"v\",\"showlegend\":false,\"textposition\":\"auto\",\"x\":[\"Aamir Khan\",\"Aaron Sorkin\",\"Abdellatif Kechiche\",\"Abhishek Chaubey\",\"Abhishek Kapoor\",\"Adam Elliot\",\"Adam McKay\",\"Aditya Chopra\",\"Aditya Dhar\",\"Akira Kurosawa\",\"Alain Resnais\",\"Alan J. Pakula\",\"Alan Parker\",\"Alejandro Amen\\u00e1bar\",\"Alejandro G. I\\u00f1\\u00e1rritu\",\"Alejandro Jodorowsky\",\"Alex Garland\",\"Alex Proyas\",\"Alexander Mackendrick\",\"Alexander Payne\",\"Alfonso Cuar\\u00f3n\",\"Alfonso Gomez-Rejon\",\"Alfred Hitchcock\",\"Amit Ravindernath Sharma\",\"Anders Thomas Jensen\",\"Andrei Tarkovsky\",\"Andrew Adamson\",\"Andrew Davis\",\"Andrew Lau\",\"Andrew Niccol\",\"Andrew Stanton\",\"Andrey Zvyagintsev\",\"Aneesh Chaganty\",\"Ang Lee\",\"Aniruddha Roy Chowdhury\",\"Anthony Harvey\",\"Anthony Russo\",\"Antoine Fuqua\",\"Anton Corbijn\",\"Anurag Basu\",\"Anurag Kashyap\",\"Arthur Penn\",\"Asghar Farhadi\",\"Ashutosh Gowariker\",\"Barry Levinson\",\"Ben Affleck\",\"Bennett Miller\",\"Bernardo Bertolucci\",\"Billy Bob Thornton\",\"Billy Wilder\",\"Blake Edwards\",\"Boaz Yakin\",\"Bob Clark\",\"Bob Fosse\",\"Bob Gale\",\"Bob Persichetti\",\"Bong Joon Ho\",\"Brad Anderson\",\"Brad Bird\",\"Bradley Cooper\",\"Brian De Palma\",\"Brian G. Hutton\",\"Brian Henson\",\"Bruce Robinson\",\"Bryan Singer\",\"Buster Keaton\",\"Byron Howard\",\"Cameron Crowe\",\"Can Ulkay\",\"Carl Theodor Dreyer\",\"Carol Reed\",\"Cary Joji Fukunaga\",\"Cecil B. DeMille\",\"Chan-wook Park\",\"Charles Chaplin\",\"Charles Laughton\",\"Charles Vidor\",\"Charlie Kaufman\",\"Chris Columbus\",\"Christian Carion\",\"Christophe Barratier\",\"Christopher McQuarrie\",\"Christopher Miller\",\"Christopher Nolan\",\"Clint Eastwood\",\"Clyde Bruckman\",\"Cristian Mungiu\",\"Curtis Hanson\",\"Cy Endfield\",\"C\\u00e9line Sciamma\",\"Damien Chazelle\",\"Dami\\u00e1n Szifron\",\"Dan Gilroy\",\"Daniel Monz\\u00f3n\",\"Danis Tanovic\",\"Danny Boyle\",\"Darius Marder\",\"Darren Aronofsky\",\"David Ayer\",\"David Cronenberg\",\"David Fincher\",\"David Lean\",\"David Leitch\",\"David Lynch\",\"David Mackenzie\",\"David Mickey Evans\",\"David O. Russell\",\"David Yates\",\"David Zucker\",\"Dean DeBlois\",\"Denis Villeneuve\",\"Deniz Gamze Erg\\u00fcven\",\"Dennis Gansel\",\"Destin Daniel Cretton\",\"Don Hall\",\"Don Siegel\",\"Dorota Kobiela\",\"Doug Liman\",\"Duncan Jones\",\"Edgar Wright\",\"Edward Zwick\",\"Elem Klimov\",\"Elia Kazan\",\"Emir Kusturica\",\"Eric Bress\",\"Ericson Core\",\"Ernst Lubitsch\",\"Ethan Coen\",\"F. Gary Gray\",\"F.W. Murnau\",\"Fabi\\u00e1n Bielinsky\",\"Farhan Akhtar\",\"Fatih Akin\",\"Federico Fellini\",\"Felix van Groeningen\",\"Fernando Meirelles\",\"Florian Henckel von Donnersmarck\",\"Francis Ford Coppola\",\"Francis Lee\",\"Francis Veber\",\"Frank Capra\",\"Frank Darabont\",\"Frank Miller\",\"Franklin J. Schaffner\",\"Fran\\u00e7ois Truffaut\",\"Fred Zinnemann\",\"Fritz Lang\",\"Gabriele Muccino\",\"Gareth Edwards\",\"Gareth Evans\",\"Garth Davis\",\"Gary Trousdale\",\"Gauri Shinde\",\"Gavin O'Connor\",\"Gayatri\",\"Gene Saks\",\"George A. Romero\",\"George Cukor\",\"George Lucas\",\"George Miller\",\"George P. Cosmatos\",\"George Roy Hill\",\"George Seaton\",\"George Sluizer\",\"George Stevens\",\"Georges Franju\",\"Gillo Pontecorvo\",\"Giuseppe Tornatore\",\"Gore Verbinski\",\"Gregg Araki\",\"Gregory Hoblit\",\"Greta Gerwig\",\"Guillermo del Toro\",\"Gus Van Sant\",\"Guy Hamilton\",\"Guy Ritchie\",\"Hal Ashby\",\"Hannes Holm\",\"Harold Ramis\",\"Hayao Miyazaki\",\"Henri-Georges Clouzot\",\"Henry Koster\",\"Henry Selick\",\"Hideaki Anno\",\"Hirokazu Koreeda\",\"Hiromasa Yonebayashi\",\"Hong-jin Na\",\"Howard Hawks\",\"Hrishikesh Mukherjee\",\"Imtiaz Ali\",\"Ingmar Bergman\",\"Irvin Kershner\",\"Isao Takahata\",\"Ivan Reitman\",\"J. Lee Thompson\",\"J.J. Abrams\",\"Jack Clayton\",\"Jaco Van Dormael\",\"Jacques Audiard\",\"Jacques Tourneur\",\"Jae-young Kwak\",\"James Algar\",\"James Cameron\",\"James Foley\",\"James Frawley\",\"James Gunn\",\"James Ivory\",\"James L. Brooks\",\"James Mangold\",\"James Marsh\",\"James McTeigue\",\"James Simone\",\"James Wan\",\"James Whale\",\"Je-kyu Kang\",\"Jean Renoir\",\"Jean-Jacques Annaud\",\"Jean-Luc Godard\",\"Jean-Marc Vall\\u00e9e\",\"Jean-Pierre Jeunet\",\"Jean-Pierre Melville\",\"Jee-woon Kim\",\"Jeethu Joseph\",\"Jemaine Clement\",\"Jeong-beom Lee\",\"Jessie Nelson\",\"Jim Abrahams\",\"Jim Jarmusch\",\"Jim Sheridan\",\"Joe Johnston\",\"Joe Wright\",\"Joel Coen\",\"Joel Schumacher\",\"John Boorman\",\"John Cameron Mitchell\",\"John Carney\",\"John Carpenter\",\"John Ford\",\"John Frankenheimer\",\"John G. Avildsen\",\"John Hughes\",\"John Huston\",\"John Landis\",\"John Lasseter\",\"John Lee Hancock\",\"John McTiernan\",\"John Schlesinger\",\"John Singleton\",\"John Sturges\",\"John Woo\",\"Jon Avnet\",\"Jon Favreau\",\"Jonathan Dayton\",\"Jonathan Demme\",\"Jonathan Levine\",\"Jonathan Lynn\",\"Jordan Peele\",\"Joseph Kosinski\",\"Joseph L. Mankiewicz\",\"Joseph Sargent\",\"Josh Boone\",\"Josh Cooley\",\"Joss Whedon\",\"Jos\\u00e9 Padilha\",\"Juan Jos\\u00e9 Campanella\",\"Jules Dassin\",\"Julian Schnabel\",\"Kabir Khan\",\"Kaige Chen\",\"Kar-Wai Wong\",\"Karan Johar\",\"Katsuhiro \\u00d4tomo\",\"Ken Annakin\",\"Ken Loach\",\"Kenneth Branagh\",\"Kenneth Lonergan\",\"Kevin Altieri\",\"Kevin Costner\",\"Kevin Macdonald\",\"Kevin Reynolds\",\"Kevin Smith\",\"Ki-duk Kim\",\"Kinji Fukasaku\",\"Krzysztof Kieslowski\",\"Lana Wachowski\",\"Lars von Trier\",\"Lasse Hallstr\\u00f6m\",\"Lee Tamahori\",\"Lee Unkrich\",\"Lenny Abrahamson\",\"Leo McCarey\",\"Levent Semerci\",\"Lewis Milestone\",\"Louis Malle\",\"Luc Besson\",\"Luca Guadagnino\",\"Luis Bu\\u00f1uel\",\"Lukas Moodysson\",\"M. Night Shyamalan\",\"Majid Majidi\",\"Makoto Shinkai\",\"Mamoru Hosoda\",\"Mamoru Oshii\",\"Marc Caro\",\"Marc Forster\",\"Marc Webb\",\"Mark Herman\",\"Mark Osborne\",\"Mark Rydell\",\"Martin Brest\",\"Martin Campbell\",\"Martin McDonagh\",\"Martin Rosen\",\"Martin Scorsese\",\"Martin Zandvliet\",\"Mary Harron\",\"Masaki Kobayashi\",\"Mathieu Kassovitz\",\"Matt Reeves\",\"Matt Ross\",\"Matthew Vaughn\",\"Matthew Warchus\",\"Meghna Gulzar\",\"Mehmet Ada \\u00d6ztekin\",\"Mel Brooks\",\"Mel Gibson\",\"Mel Stuart\",\"Merian C. Cooper\",\"Michael Cimino\",\"Michael Curtiz\",\"Michael Haneke\",\"Michael Mann\",\"Michael Powell\",\"Michael Radford\",\"Michel Gondry\",\"Michel Hazanavicius\",\"Michelangelo Antonioni\",\"Mikael H\\u00e5fstr\\u00f6m\",\"Mike Judge\",\"Mike Leigh\",\"Mike Newell\",\"Mike Nichols\",\"Milos Forman\",\"Morten Tyldum\",\"Moustapha Akkad\",\"Mukesh Chhabra\",\"Nadine Labaki\",\"Naoko Yamada\",\"Nathan Greno\",\"Neeraj Pandey\",\"Neil Burger\",\"Neill Blomkamp\",\"Nicholas Meyer\",\"Nicholas Ray\",\"Nick Cassavetes\",\"Nicolas Winding Refn\",\"Niels Arden Oplev\",\"Nikkhil Advani\",\"Nishikant Kamat\",\"Nitesh Tiwari\",\"Noah Baumbach\",\"Norman Jewison\",\"Nuri Bilge Ceylan\",\"Oliver Hirschbiegel\",\"Oliver Stone\",\"Olivier Dahan\",\"Olivier Nakache\",\"Oriol Paulo\",\"Orson Welles\",\"Otto Preminger\",\"Paolo Genovese\",\"Paolo Sorrentino\",\"Paul Greengrass\",\"Paul Haggis\",\"Paul King\",\"Paul McGuigan\",\"Paul Thomas Anderson\",\"Paul Verhoeven\",\"Pedro Almod\\u00f3var\",\"Penny Marshall\",\"Pete Docter\",\"Peter Bogdanovich\",\"Peter Farrelly\",\"Peter Jackson\",\"Peter Mullan\",\"Peter Weir\",\"Philip Kaufman\",\"Pierre Coffin\",\"Pierre Morel\",\"Prashanth Neel\",\"Priyadarshan\",\"Quentin Tarantino\",\"Rahi Anil Barve\",\"Raja Menon\",\"Rajkumar Hirani\",\"Rajkumar Santoshi\",\"Rakeysh Omprakash Mehra\",\"Ramesh Sippy\",\"Raoul Walsh\",\"Ren\\u00e9 Laloux\",\"Rian Johnson\",\"Rich Moore\",\"Richard Attenborough\",\"Richard Brooks\",\"Richard Curtis\",\"Richard Donner\",\"Richard Kelly\",\"Richard Lester\",\"Richard Linklater\",\"Richard Marquand\",\"Richard Schenkman\",\"Ridley Scott\",\"Ritesh Batra\",\"Rob Reiner\",\"Robert Aldrich\",\"Robert Altman\",\"Robert Benton\",\"Robert Clouse\",\"Robert De Niro\",\"Robert Hamer\",\"Robert Mulligan\",\"Robert Redford\",\"Robert Rossen\",\"Robert Stevenson\",\"Robert Wiene\",\"Robert Wise\",\"Robert Zemeckis\",\"Roberto Benigni\",\"Roger Allers\",\"Roger Donaldson\",\"Roland Joff\\u00e9\",\"Roman Polanski\",\"Ron Clements\",\"Ron Howard\",\"Ronny Yu\",\"Ruben Fleischer\",\"Ryan Coogler\",\"S.S. Rajamouli\",\"Sam Mendes\",\"Sam Peckinpah\",\"Sam Raimi\",\"Sam Wood\",\"Sanjay Leela Bhansali\",\"Satoshi Kon\",\"Scott Hicks\",\"Sean Baker\",\"Sean Penn\",\"Sebastian Schipper\",\"Sergei M. Eisenstein\",\"Sergio Leone\",\"Sergio Pablos\",\"Shane Meadows\",\"Shimit Amin\",\"Shin'ichir\\u00f4 Watanabe\",\"Shoojit Sircar\",\"Sh\\u00fbsuke Kaneko\",\"Sidney Lumet\",\"Sofia Coppola\",\"Spike Jonze\",\"Spike Lee\",\"Sriram Raghavan\",\"Stanley Donen\",\"Stanley Kramer\",\"Stanley Kubrick\",\"Stephen Chbosky\",\"Stephen Chow\",\"Stephen Daldry\",\"Stephen Frears\",\"Steve McQueen\",\"Steven Soderbergh\",\"Steven Spielberg\",\"Stuart Rosenberg\",\"Sudha Kongara\",\"Sujoy Ghosh\",\"Susanne Bier\",\"Sylvain Chomet\",\"Taika Waititi\",\"Takeshi Kitano\",\"Tarsem Singh\",\"Tate Taylor\",\"Taylor Hackford\",\"Taylor Sheridan\",\"Ted Demme\",\"Ted Kotcheff\",\"Terence Young\",\"Terrence Malick\",\"Terry George\",\"Terry Gilliam\",\"Terry Jones\",\"Tetsuya Nakashima\",\"Theodore Melfi\",\"Thomas Jahn\",\"Thomas Kail\",\"Thomas Vinterberg\",\"Tigmanshu Dhulia\",\"Tim Burton\",\"Tim Miller\",\"Tod Browning\",\"Todd Haynes\",\"Todd Phillips\",\"Todd Solondz\",\"Tom Hooper\",\"Tom McCarthy\",\"Tom Tykwer\",\"Tomas Alfredson\",\"Tomm Moore\",\"Tony Bancroft\",\"Tony Kaye\",\"Tony Scott\",\"Travis Knight\",\"Trey Parker\",\"Troy Duffy\",\"Tyler Nilson\",\"Umesh Shukla\",\"Victor Fleming\",\"Vikas Bahl\",\"Vikramaditya Motwane\",\"Vincent Paronnaud\",\"Vishal Bhardwaj\",\"Vittorio De Sica\",\"W.S. Van Dyke\",\"Walter Hill\",\"Walter Salles\",\"Werner Herzog\",\"Wes Anderson\",\"William Friedkin\",\"William Wyler\",\"Wilson Yip\",\"Wim Wenders\",\"Wolfgang Becker\",\"Wolfgang Petersen\",\"Wolfgang Reitherman\",\"Woody Allen\",\"Xavier Dolan\",\"Yann Samuell\",\"Yash Chopra\",\"Yasujir\\u00f4 Ozu\",\"Yavuz Turgul\",\"Yilmaz Erdogan\",\"Yimou Zhang\",\"Yoshiaki Kawajiri\",\"Yoshifumi Kond\\u00f4\",\"Y\\u00f4jir\\u00f4 Takita\",\"Zack Snyder\",\"Zaza Urushadze\",\"Zoya Akhtar\",\"\\u00c7agan Irmak\",\"\\u00d6mer Faruk Sorak\"],\"xaxis\":\"x\",\"y\":[8.4,7.8,7.7,7.8,7.7,8.1,7.8,8.1,8.2,8.22,7.9,7.9,7.833333333333333,7.766666666666667,7.85,7.9,7.7,7.6,7.85,7.7,7.75,7.7,8.007142857142856,8.0,7.8,8.12,7.8,7.8,8.0,7.699999999999999,8.25,7.733333333333333,7.6,7.75,8.1,7.9,8.075,7.7,7.7,8.1,8.1,7.8,7.975,8.149999999999999,7.8,7.65,7.6,7.85,8.0,8.144444444444444,7.6,7.8,7.9,7.85,7.7,8.4,8.166666666666666,7.7,7.9,7.6,8.033333333333333,7.65,7.7,7.7,8.133333333333333,8.2,8.0,7.9,8.4,8.1,8.1,7.7,7.9,7.975,8.333333333333334,8.0,7.7,7.6,7.6,7.7,7.9,7.7,7.7,8.4625,7.9125,8.1,7.9,8.2,7.7,8.1,8.25,8.1,7.9,7.6,7.9,7.8999999999999995,7.8,8.066666666666668,7.6,7.6,8.0375,8.1,7.7,7.859999999999999,7.6,7.8,7.75,7.8,7.6,7.949999999999999,7.9799999999999995,7.6,7.6,7.8,7.8,7.666666666666667,7.8,7.9,7.9,7.766666666666667,7.833333333333333,8.3,8.0,8.133333333333333,7.6,8.0,8.149999999999999,7.85,7.8,8.0,7.9,8.1,7.85,8.0,7.7,8.6,8.4,8.4,7.7,7.7,8.2,8.95,8.0,7.966666666666666,7.949999999999999,7.75,8.3,7.8,7.8,7.8,8.0,8.0,7.8,8.2,8.4,7.7,7.9,7.85,8.6,7.85,7.8,8.15,7.9,7.7,7.6,7.7,8.1,8.133333333333333,8.0,7.6,7.7,7.8,8.2,8.3,7.7,7.975,7.95,7.7,8.0,8.018181818181818,8.05,7.9,7.85,8.1,7.9,7.6,7.8,7.857142857142857,8.4,7.800000000000001,8.142857142857142,8.7,8.033333333333333,7.8,7.7,7.833333333333333,7.8,7.8,7.9,8.0,8.0,7.7,8.08,7.7,7.6,7.8,7.8,7.7,7.925,7.7,8.2,7.7,7.6,7.766666666666667,8.1,8.05,7.65,7.9,7.95,7.95,8.1,7.8,8.3,7.7,7.8,7.7,7.7,7.733333333333333,7.8999999999999995,7.8,7.8,7.816666666666666,7.6,7.7,7.7,7.85,7.9,7.9,7.9,8.1,7.733333333333333,7.9,7.9,8.100000000000001,7.6,7.866666666666666,7.8,7.8,7.949999999999999,7.8,7.7,7.9,7.8,8.15,7.6,7.6,7.7,7.6,8.1,7.7,7.7,7.8,7.9,8.0,8.2,8.2,8.0,8.0,8.1,7.966666666666666,8.0,8.0,7.8,7.9,7.7,7.8,7.8,8.0,7.7,7.8,7.7,8.0,7.6,7.85,8.7,7.933333333333334,7.949999999999999,7.9,8.3,8.1,7.8,8.0,8.0,8.0,8.1,7.9,7.8999999999999995,7.8,8.1,8.3,8.4,7.9,8.0,7.6,7.6,7.65,7.8,7.7,7.6,8.0,8.0,8.05,7.6,8.17,7.8,7.6,8.6,8.1,7.6,7.9,7.65,7.8,8.0,8.3,7.85,8.066666666666666,7.8,7.9,8.1,8.2,7.766666666666667,7.8999999999999995,7.9,7.7,8.3,7.9,7.75,7.8,7.7,7.9,7.7,8.0,8.5,8.0,8.2,7.9,8.4,8.1,7.7,7.975,7.6,7.9,7.7,7.85,7.8,7.8,7.8,8.0,8.2,8.3,7.9,7.833333333333333,8.0,7.949999999999999,8.05,7.6,8.5,7.85,8.15,8.0,7.8,7.8,7.833333333333333,7.7,7.8,7.7,8.033333333333333,7.7,7.766666666666667,7.8,8.125,8.05,8.2,8.4,7.7,8.1,7.8,7.6,7.8,8.2,8.2,8.175,8.3,8.0,8.175,8.2,8.2,8.2,8.1,7.8,7.9,7.7,8.0,8.0,7.8,7.699999999999999,8.0,7.6,7.8999999999999995,8.3,7.9,8.083333333333334,7.8,7.828571428571428,7.9,7.65,7.8,7.7,7.8,8.0,8.2,7.7,8.0,7.8,8.1,7.85,8.120000000000001,8.6,8.5,7.8,7.8,8.0,7.733333333333333,7.92,7.6,7.6,7.6,8.1,8.0,7.9,7.8,7.9,8.2,7.833333333333333,7.7,7.6,8.1,7.6,8.0,8.266666666666667,8.2,7.65,8.2,7.9,7.8,7.7,8.1,7.7,7.8,7.725,8.3,8.100000000000001,8.033333333333333,8.233333333333334,8.0,7.7,7.7,7.6,8.1,7.7,8.03076923076923,8.1,8.6,8.1,7.65,7.8,7.900000000000001,7.8,7.9,8.0,7.85,7.7,7.6,7.7,7.8,7.733333333333333,8.1,7.925,8.1,7.8,7.8,8.0,8.6,8.033333333333333,8.2,7.8999999999999995,8.0,7.9,7.6,8.1,7.7,8.0,7.766666666666666,7.6,7.9,7.85,7.6,8.1,7.800000000000001,7.8,7.7,7.8,7.6,8.1,8.05,8.2,8.2,8.0,8.1,8.3,8.0,7.6,7.9,8.0,7.833333333333333,7.85,8.033333333333333,8.0,8.05,7.7,8.3,7.6,7.788888888888888,8.1,7.6,7.8,8.2,8.2,8.0,8.0,7.800000000000001,7.9,8.1,7.6,8.2,8.05,8.3,8.0],\"yaxis\":\"y\",\"type\":\"bar\"}],                        {\"template\":{\"data\":{\"histogram2dcontour\":[{\"type\":\"histogram2dcontour\",\"colorbar\":{\"outlinewidth\":0,\"ticks\":\"\"},\"colorscale\":[[0.0,\"#0d0887\"],[0.1111111111111111,\"#46039f\"],[0.2222222222222222,\"#7201a8\"],[0.3333333333333333,\"#9c179e\"],[0.4444444444444444,\"#bd3786\"],[0.5555555555555556,\"#d8576b\"],[0.6666666666666666,\"#ed7953\"],[0.7777777777777778,\"#fb9f3a\"],[0.8888888888888888,\"#fdca26\"],[1.0,\"#f0f921\"]]}],\"choropleth\":[{\"type\":\"choropleth\",\"colorbar\":{\"outlinewidth\":0,\"ticks\":\"\"}}],\"histogram2d\":[{\"type\":\"histogram2d\",\"colorbar\":{\"outlinewidth\":0,\"ticks\":\"\"},\"colorscale\":[[0.0,\"#0d0887\"],[0.1111111111111111,\"#46039f\"],[0.2222222222222222,\"#7201a8\"],[0.3333333333333333,\"#9c179e\"],[0.4444444444444444,\"#bd3786\"],[0.5555555555555556,\"#d8576b\"],[0.6666666666666666,\"#ed7953\"],[0.7777777777777778,\"#fb9f3a\"],[0.8888888888888888,\"#fdca26\"],[1.0,\"#f0f921\"]]}],\"heatmap\":[{\"type\":\"heatmap\",\"colorbar\":{\"outlinewidth\":0,\"ticks\":\"\"},\"colorscale\":[[0.0,\"#0d0887\"],[0.1111111111111111,\"#46039f\"],[0.2222222222222222,\"#7201a8\"],[0.3333333333333333,\"#9c179e\"],[0.4444444444444444,\"#bd3786\"],[0.5555555555555556,\"#d8576b\"],[0.6666666666666666,\"#ed7953\"],[0.7777777777777778,\"#fb9f3a\"],[0.8888888888888888,\"#fdca26\"],[1.0,\"#f0f921\"]]}],\"heatmapgl\":[{\"type\":\"heatmapgl\",\"colorbar\":{\"outlinewidth\":0,\"ticks\":\"\"},\"colorscale\":[[0.0,\"#0d0887\"],[0.1111111111111111,\"#46039f\"],[0.2222222222222222,\"#7201a8\"],[0.3333333333333333,\"#9c179e\"],[0.4444444444444444,\"#bd3786\"],[0.5555555555555556,\"#d8576b\"],[0.6666666666666666,\"#ed7953\"],[0.7777777777777778,\"#fb9f3a\"],[0.8888888888888888,\"#fdca26\"],[1.0,\"#f0f921\"]]}],\"contourcarpet\":[{\"type\":\"contourcarpet\",\"colorbar\":{\"outlinewidth\":0,\"ticks\":\"\"}}],\"contour\":[{\"type\":\"contour\",\"colorbar\":{\"outlinewidth\":0,\"ticks\":\"\"},\"colorscale\":[[0.0,\"#0d0887\"],[0.1111111111111111,\"#46039f\"],[0.2222222222222222,\"#7201a8\"],[0.3333333333333333,\"#9c179e\"],[0.4444444444444444,\"#bd3786\"],[0.5555555555555556,\"#d8576b\"],[0.6666666666666666,\"#ed7953\"],[0.7777777777777778,\"#fb9f3a\"],[0.8888888888888888,\"#fdca26\"],[1.0,\"#f0f921\"]]}],\"surface\":[{\"type\":\"surface\",\"colorbar\":{\"outlinewidth\":0,\"ticks\":\"\"},\"colorscale\":[[0.0,\"#0d0887\"],[0.1111111111111111,\"#46039f\"],[0.2222222222222222,\"#7201a8\"],[0.3333333333333333,\"#9c179e\"],[0.4444444444444444,\"#bd3786\"],[0.5555555555555556,\"#d8576b\"],[0.6666666666666666,\"#ed7953\"],[0.7777777777777778,\"#fb9f3a\"],[0.8888888888888888,\"#fdca26\"],[1.0,\"#f0f921\"]]}],\"mesh3d\":[{\"type\":\"mesh3d\",\"colorbar\":{\"outlinewidth\":0,\"ticks\":\"\"}}],\"scatter\":[{\"fillpattern\":{\"fillmode\":\"overlay\",\"size\":10,\"solidity\":0.2},\"type\":\"scatter\"}],\"parcoords\":[{\"type\":\"parcoords\",\"line\":{\"colorbar\":{\"outlinewidth\":0,\"ticks\":\"\"}}}],\"scatterpolargl\":[{\"type\":\"scatterpolargl\",\"marker\":{\"colorbar\":{\"outlinewidth\":0,\"ticks\":\"\"}}}],\"bar\":[{\"error_x\":{\"color\":\"#2a3f5f\"},\"error_y\":{\"color\":\"#2a3f5f\"},\"marker\":{\"line\":{\"color\":\"#E5ECF6\",\"width\":0.5},\"pattern\":{\"fillmode\":\"overlay\",\"size\":10,\"solidity\":0.2}},\"type\":\"bar\"}],\"scattergeo\":[{\"type\":\"scattergeo\",\"marker\":{\"colorbar\":{\"outlinewidth\":0,\"ticks\":\"\"}}}],\"scatterpolar\":[{\"type\":\"scatterpolar\",\"marker\":{\"colorbar\":{\"outlinewidth\":0,\"ticks\":\"\"}}}],\"histogram\":[{\"marker\":{\"pattern\":{\"fillmode\":\"overlay\",\"size\":10,\"solidity\":0.2}},\"type\":\"histogram\"}],\"scattergl\":[{\"type\":\"scattergl\",\"marker\":{\"colorbar\":{\"outlinewidth\":0,\"ticks\":\"\"}}}],\"scatter3d\":[{\"type\":\"scatter3d\",\"line\":{\"colorbar\":{\"outlinewidth\":0,\"ticks\":\"\"}},\"marker\":{\"colorbar\":{\"outlinewidth\":0,\"ticks\":\"\"}}}],\"scattermapbox\":[{\"type\":\"scattermapbox\",\"marker\":{\"colorbar\":{\"outlinewidth\":0,\"ticks\":\"\"}}}],\"scatterternary\":[{\"type\":\"scatterternary\",\"marker\":{\"colorbar\":{\"outlinewidth\":0,\"ticks\":\"\"}}}],\"scattercarpet\":[{\"type\":\"scattercarpet\",\"marker\":{\"colorbar\":{\"outlinewidth\":0,\"ticks\":\"\"}}}],\"carpet\":[{\"aaxis\":{\"endlinecolor\":\"#2a3f5f\",\"gridcolor\":\"white\",\"linecolor\":\"white\",\"minorgridcolor\":\"white\",\"startlinecolor\":\"#2a3f5f\"},\"baxis\":{\"endlinecolor\":\"#2a3f5f\",\"gridcolor\":\"white\",\"linecolor\":\"white\",\"minorgridcolor\":\"white\",\"startlinecolor\":\"#2a3f5f\"},\"type\":\"carpet\"}],\"table\":[{\"cells\":{\"fill\":{\"color\":\"#EBF0F8\"},\"line\":{\"color\":\"white\"}},\"header\":{\"fill\":{\"color\":\"#C8D4E3\"},\"line\":{\"color\":\"white\"}},\"type\":\"table\"}],\"barpolar\":[{\"marker\":{\"line\":{\"color\":\"#E5ECF6\",\"width\":0.5},\"pattern\":{\"fillmode\":\"overlay\",\"size\":10,\"solidity\":0.2}},\"type\":\"barpolar\"}],\"pie\":[{\"automargin\":true,\"type\":\"pie\"}]},\"layout\":{\"autotypenumbers\":\"strict\",\"colorway\":[\"#636efa\",\"#EF553B\",\"#00cc96\",\"#ab63fa\",\"#FFA15A\",\"#19d3f3\",\"#FF6692\",\"#B6E880\",\"#FF97FF\",\"#FECB52\"],\"font\":{\"color\":\"#2a3f5f\"},\"hovermode\":\"closest\",\"hoverlabel\":{\"align\":\"left\"},\"paper_bgcolor\":\"white\",\"plot_bgcolor\":\"#E5ECF6\",\"polar\":{\"bgcolor\":\"#E5ECF6\",\"angularaxis\":{\"gridcolor\":\"white\",\"linecolor\":\"white\",\"ticks\":\"\"},\"radialaxis\":{\"gridcolor\":\"white\",\"linecolor\":\"white\",\"ticks\":\"\"}},\"ternary\":{\"bgcolor\":\"#E5ECF6\",\"aaxis\":{\"gridcolor\":\"white\",\"linecolor\":\"white\",\"ticks\":\"\"},\"baxis\":{\"gridcolor\":\"white\",\"linecolor\":\"white\",\"ticks\":\"\"},\"caxis\":{\"gridcolor\":\"white\",\"linecolor\":\"white\",\"ticks\":\"\"}},\"coloraxis\":{\"colorbar\":{\"outlinewidth\":0,\"ticks\":\"\"}},\"colorscale\":{\"sequential\":[[0.0,\"#0d0887\"],[0.1111111111111111,\"#46039f\"],[0.2222222222222222,\"#7201a8\"],[0.3333333333333333,\"#9c179e\"],[0.4444444444444444,\"#bd3786\"],[0.5555555555555556,\"#d8576b\"],[0.6666666666666666,\"#ed7953\"],[0.7777777777777778,\"#fb9f3a\"],[0.8888888888888888,\"#fdca26\"],[1.0,\"#f0f921\"]],\"sequentialminus\":[[0.0,\"#0d0887\"],[0.1111111111111111,\"#46039f\"],[0.2222222222222222,\"#7201a8\"],[0.3333333333333333,\"#9c179e\"],[0.4444444444444444,\"#bd3786\"],[0.5555555555555556,\"#d8576b\"],[0.6666666666666666,\"#ed7953\"],[0.7777777777777778,\"#fb9f3a\"],[0.8888888888888888,\"#fdca26\"],[1.0,\"#f0f921\"]],\"diverging\":[[0,\"#8e0152\"],[0.1,\"#c51b7d\"],[0.2,\"#de77ae\"],[0.3,\"#f1b6da\"],[0.4,\"#fde0ef\"],[0.5,\"#f7f7f7\"],[0.6,\"#e6f5d0\"],[0.7,\"#b8e186\"],[0.8,\"#7fbc41\"],[0.9,\"#4d9221\"],[1,\"#276419\"]]},\"xaxis\":{\"gridcolor\":\"white\",\"linecolor\":\"white\",\"ticks\":\"\",\"title\":{\"standoff\":15},\"zerolinecolor\":\"white\",\"automargin\":true,\"zerolinewidth\":2},\"yaxis\":{\"gridcolor\":\"white\",\"linecolor\":\"white\",\"ticks\":\"\",\"title\":{\"standoff\":15},\"zerolinecolor\":\"white\",\"automargin\":true,\"zerolinewidth\":2},\"scene\":{\"xaxis\":{\"backgroundcolor\":\"#E5ECF6\",\"gridcolor\":\"white\",\"linecolor\":\"white\",\"showbackground\":true,\"ticks\":\"\",\"zerolinecolor\":\"white\",\"gridwidth\":2},\"yaxis\":{\"backgroundcolor\":\"#E5ECF6\",\"gridcolor\":\"white\",\"linecolor\":\"white\",\"showbackground\":true,\"ticks\":\"\",\"zerolinecolor\":\"white\",\"gridwidth\":2},\"zaxis\":{\"backgroundcolor\":\"#E5ECF6\",\"gridcolor\":\"white\",\"linecolor\":\"white\",\"showbackground\":true,\"ticks\":\"\",\"zerolinecolor\":\"white\",\"gridwidth\":2}},\"shapedefaults\":{\"line\":{\"color\":\"#2a3f5f\"}},\"annotationdefaults\":{\"arrowcolor\":\"#2a3f5f\",\"arrowhead\":0,\"arrowwidth\":1},\"geo\":{\"bgcolor\":\"white\",\"landcolor\":\"#E5ECF6\",\"subunitcolor\":\"white\",\"showland\":true,\"showlakes\":true,\"lakecolor\":\"white\"},\"title\":{\"x\":0.05},\"mapbox\":{\"style\":\"light\"}}},\"xaxis\":{\"anchor\":\"y\",\"domain\":[0.0,1.0],\"title\":{\"text\":\"Director\"}},\"yaxis\":{\"anchor\":\"x\",\"domain\":[0.0,1.0],\"title\":{\"text\":\"Average IMDB Rating\"}},\"legend\":{\"tracegroupgap\":0},\"margin\":{\"t\":60},\"barmode\":\"relative\",\"title\":{\"text\":\"Average IMDB Rating by Director\"}},                        {\"responsive\": true}                    ).then(function(){\n",
              "                            \n",
              "var gd = document.getElementById('9249a608-721a-49fa-b49f-26ff2f390a8c');\n",
              "var x = new MutationObserver(function (mutations, observer) {{\n",
              "        var display = window.getComputedStyle(gd).display;\n",
              "        if (!display || display === 'none') {{\n",
              "            console.log([gd, 'removed!']);\n",
              "            Plotly.purge(gd);\n",
              "            observer.disconnect();\n",
              "        }}\n",
              "}});\n",
              "\n",
              "// Listen for the removal of the full notebook cells\n",
              "var notebookContainer = gd.closest('#notebook-container');\n",
              "if (notebookContainer) {{\n",
              "    x.observe(notebookContainer, {childList: true});\n",
              "}}\n",
              "\n",
              "// Listen for the clearing of the current output cell\n",
              "var outputEl = gd.closest('.output');\n",
              "if (outputEl) {{\n",
              "    x.observe(outputEl, {childList: true});\n",
              "}}\n",
              "\n",
              "                        })                };                            </script>        </div>\n",
              "</body>\n",
              "</html>"
            ]
          },
          "metadata": {}
        }
      ]
    }
  ]
}